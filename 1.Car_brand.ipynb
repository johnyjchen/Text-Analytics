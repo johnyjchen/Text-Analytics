{
  "nbformat": 4,
  "nbformat_minor": 0,
  "metadata": {
    "colab": {
      "name": "Assignment_1",
      "provenance": [],
      "collapsed_sections": []
    },
    "kernelspec": {
      "name": "python3",
      "display_name": "Python 3"
    }
  },
  "cells": [
    {
      "cell_type": "markdown",
      "metadata": {
        "id": "EJiEnJqBH3oJ",
        "colab_type": "text"
      },
      "source": [
        "# **Assignment 1**\n",
        "## Yingjie Chen (yc24966) - 08:30 section\n",
        "## Andrew Han (ah49372) - 10:30 section\n",
        "## Sitong Li (sl43736) - 10:30 section\n",
        "## Matthew Ruffner (mar9632) - 08:30 section\n",
        "## Xinmeng Song (xs3659) - 08:30 section"
      ]
    },
    {
      "cell_type": "markdown",
      "metadata": {
        "id": "o6NJG-5UC3GT",
        "colab_type": "text"
      },
      "source": [
        "**Our team scraped data from https://forums.edmunds.com/discussion/7526/general/x/midsize-sedans-2-0**  \n",
        "**This is a post that talks about midsize Sedans for different brands.**   \n",
        "**Our team scripted 5000 comments/posts and conducted a text analysis based on the results.**  "
      ]
    },
    {
      "cell_type": "code",
      "metadata": {
        "id": "xKqQ-fB27k2Z",
        "colab_type": "code",
        "colab": {}
      },
      "source": [
        "import pandas as pd"
      ],
      "execution_count": null,
      "outputs": []
    },
    {
      "cell_type": "code",
      "metadata": {
        "id": "w196i4CJLrdh",
        "colab_type": "code",
        "colab": {
          "base_uri": "https://localhost:8080/",
          "height": 1000
        },
        "outputId": "b29723bc-6df3-407c-9d61-710605868f7e"
      },
      "source": [
        "!pip install selenium\n",
        "from selenium import webdriver\n",
        "!apt-get -q update # to update ubuntu to correctly run apt install\n",
        "!apt install -yq chromium-chromedriver\n",
        "!cp /usr/lib/chromium-browser/chromedriver /usr/bin"
      ],
      "execution_count": null,
      "outputs": [
        {
          "output_type": "stream",
          "text": [
            "Collecting selenium\n",
            "\u001b[?25l  Downloading https://files.pythonhosted.org/packages/80/d6/4294f0b4bce4de0abf13e17190289f9d0613b0a44e5dd6a7f5ca98459853/selenium-3.141.0-py2.py3-none-any.whl (904kB)\n",
            "\u001b[K     |████████████████████████████████| 911kB 4.2MB/s \n",
            "\u001b[?25hRequirement already satisfied: urllib3 in /usr/local/lib/python3.6/dist-packages (from selenium) (1.24.3)\n",
            "Installing collected packages: selenium\n",
            "Successfully installed selenium-3.141.0\n",
            "Get:1 https://cloud.r-project.org/bin/linux/ubuntu bionic-cran35/ InRelease [3,626 B]\n",
            "Ign:2 https://developer.download.nvidia.com/compute/cuda/repos/ubuntu1804/x86_64  InRelease\n",
            "Ign:3 https://developer.download.nvidia.com/compute/machine-learning/repos/ubuntu1804/x86_64  InRelease\n",
            "Hit:4 https://developer.download.nvidia.com/compute/cuda/repos/ubuntu1804/x86_64  Release\n",
            "Hit:5 https://developer.download.nvidia.com/compute/machine-learning/repos/ubuntu1804/x86_64  Release\n",
            "Hit:6 http://archive.ubuntu.com/ubuntu bionic InRelease\n",
            "Hit:7 http://ppa.launchpad.net/graphics-drivers/ppa/ubuntu bionic InRelease\n",
            "Get:8 http://security.ubuntu.com/ubuntu bionic-security InRelease [88.7 kB]\n",
            "Get:9 http://archive.ubuntu.com/ubuntu bionic-updates InRelease [88.7 kB]\n",
            "Get:11 http://ppa.launchpad.net/marutter/c2d4u3.5/ubuntu bionic InRelease [15.4 kB]\n",
            "Get:13 http://archive.ubuntu.com/ubuntu bionic-backports InRelease [74.6 kB]\n",
            "Get:14 http://ppa.launchpad.net/marutter/c2d4u3.5/ubuntu bionic/main Sources [1,867 kB]\n",
            "Get:15 http://security.ubuntu.com/ubuntu bionic-security/universe amd64 Packages [901 kB]\n",
            "Get:16 http://archive.ubuntu.com/ubuntu bionic-updates/universe amd64 Packages [1,429 kB]\n",
            "Get:17 http://archive.ubuntu.com/ubuntu bionic-updates/main amd64 Packages [1,384 kB]\n",
            "Get:18 http://ppa.launchpad.net/marutter/c2d4u3.5/ubuntu bionic/main amd64 Packages [901 kB]\n",
            "Fetched 6,754 kB in 4s (1,772 kB/s)\n",
            "Reading package lists...\n",
            "Reading package lists...\n",
            "Building dependency tree...\n",
            "Reading state information...\n",
            "The following additional packages will be installed:\n",
            "  chromium-browser chromium-browser-l10n chromium-codecs-ffmpeg-extra\n",
            "Suggested packages:\n",
            "  webaccounts-chromium-extension unity-chromium-extension adobe-flashplugin\n",
            "The following NEW packages will be installed:\n",
            "  chromium-browser chromium-browser-l10n chromium-chromedriver\n",
            "  chromium-codecs-ffmpeg-extra\n",
            "0 upgraded, 4 newly installed, 0 to remove and 11 not upgraded.\n",
            "Need to get 79.2 MB of archives.\n",
            "After this operation, 268 MB of additional disk space will be used.\n",
            "Get:1 http://archive.ubuntu.com/ubuntu bionic-updates/universe amd64 chromium-codecs-ffmpeg-extra amd64 85.0.4183.83-0ubuntu0.18.04.2 [1,118 kB]\n",
            "Get:2 http://archive.ubuntu.com/ubuntu bionic-updates/universe amd64 chromium-browser amd64 85.0.4183.83-0ubuntu0.18.04.2 [70.3 MB]\n",
            "Get:3 http://archive.ubuntu.com/ubuntu bionic-updates/universe amd64 chromium-browser-l10n all 85.0.4183.83-0ubuntu0.18.04.2 [3,431 kB]\n",
            "Get:4 http://archive.ubuntu.com/ubuntu bionic-updates/universe amd64 chromium-chromedriver amd64 85.0.4183.83-0ubuntu0.18.04.2 [4,412 kB]\n",
            "Fetched 79.2 MB in 5s (15.5 MB/s)\n",
            "Selecting previously unselected package chromium-codecs-ffmpeg-extra.\n",
            "(Reading database ... 144600 files and directories currently installed.)\n",
            "Preparing to unpack .../chromium-codecs-ffmpeg-extra_85.0.4183.83-0ubuntu0.18.04.2_amd64.deb ...\n",
            "Unpacking chromium-codecs-ffmpeg-extra (85.0.4183.83-0ubuntu0.18.04.2) ...\n",
            "Selecting previously unselected package chromium-browser.\n",
            "Preparing to unpack .../chromium-browser_85.0.4183.83-0ubuntu0.18.04.2_amd64.deb ...\n",
            "Unpacking chromium-browser (85.0.4183.83-0ubuntu0.18.04.2) ...\n",
            "Selecting previously unselected package chromium-browser-l10n.\n",
            "Preparing to unpack .../chromium-browser-l10n_85.0.4183.83-0ubuntu0.18.04.2_all.deb ...\n",
            "Unpacking chromium-browser-l10n (85.0.4183.83-0ubuntu0.18.04.2) ...\n",
            "Selecting previously unselected package chromium-chromedriver.\n",
            "Preparing to unpack .../chromium-chromedriver_85.0.4183.83-0ubuntu0.18.04.2_amd64.deb ...\n",
            "Unpacking chromium-chromedriver (85.0.4183.83-0ubuntu0.18.04.2) ...\n",
            "Setting up chromium-codecs-ffmpeg-extra (85.0.4183.83-0ubuntu0.18.04.2) ...\n",
            "Setting up chromium-browser (85.0.4183.83-0ubuntu0.18.04.2) ...\n",
            "update-alternatives: using /usr/bin/chromium-browser to provide /usr/bin/x-www-browser (x-www-browser) in auto mode\n",
            "update-alternatives: using /usr/bin/chromium-browser to provide /usr/bin/gnome-www-browser (gnome-www-browser) in auto mode\n",
            "Setting up chromium-chromedriver (85.0.4183.83-0ubuntu0.18.04.2) ...\n",
            "Setting up chromium-browser-l10n (85.0.4183.83-0ubuntu0.18.04.2) ...\n",
            "Processing triggers for hicolor-icon-theme (0.17-2) ...\n",
            "Processing triggers for mime-support (3.60ubuntu1) ...\n",
            "Processing triggers for man-db (2.8.3-2ubuntu0.1) ...\n",
            "cp: '/usr/lib/chromium-browser/chromedriver' and '/usr/bin/chromedriver' are the same file\n"
          ],
          "name": "stdout"
        }
      ]
    },
    {
      "cell_type": "code",
      "metadata": {
        "id": "YpMXc_I6G9Wy",
        "colab_type": "code",
        "colab": {}
      },
      "source": [
        "import sys\n",
        "sys.path.insert(0,'/usr/lib/chromium-browser/chromedriver')\n",
        "chrome_options = webdriver.ChromeOptions()\n",
        "chrome_options.add_argument('--headless')\n",
        "chrome_options.add_argument('--no-sandbox')\n",
        "chrome_options.add_argument('--disable-dev-shm-usage')"
      ],
      "execution_count": null,
      "outputs": []
    },
    {
      "cell_type": "markdown",
      "metadata": {
        "id": "IjB5NvyAep9f",
        "colab_type": "text"
      },
      "source": [
        "#Task A:"
      ]
    },
    {
      "cell_type": "code",
      "metadata": {
        "id": "H9O900FPTWwY",
        "colab_type": "code",
        "colab": {}
      },
      "source": [
        "# Feel free to run any cell except these two below (takes 20 min)"
      ],
      "execution_count": null,
      "outputs": []
    },
    {
      "cell_type": "code",
      "metadata": {
        "id": "ugQ5nC9oQf9W",
        "colab_type": "code",
        "colab": {
          "base_uri": "https://localhost:8080/",
          "height": 419
        },
        "outputId": "8c92b3c3-96e5-4bea-9ae5-8ce2a5400365"
      },
      "source": [
        "wd = webdriver.Chrome('chromedriver', options=chrome_options)\n",
        "total_comments = pd.DataFrame(columns = ['Date','user_id','comments']) \n",
        "\n",
        "for y in range(100):\n",
        "  web_address = \"https://forums.edmunds.com/discussion/7526/general/x/midsize-sedans-2-0/p\" + str(y)\n",
        "  wd.get(web_address)\n",
        "  # print(web_address)\n",
        "\n",
        "  comments = pd.DataFrame(columns = ['Date','user_id','comments']) \n",
        "  ids = wd.find_elements_by_xpath(\"//*[contains(@id,'Comment_')]\")\n",
        "  comment_ids = []\n",
        "  for i in ids:\n",
        "    comment_ids.append(i.get_attribute('id'))\n",
        "\n",
        "  for x in comment_ids:\n",
        "    #Extract dates from for each user on a page\n",
        "    user_date = wd.find_elements_by_xpath('//*[@id=\"' + x +'\"]/div/div[2]/div[2]/span[1]/a/time')[0]\n",
        "    date = user_date.get_attribute('title')\n",
        "\n",
        "    #Extract user ids from each user on a page\n",
        "    userid_element = wd.find_elements_by_xpath('//*[@id=\"' + x +'\"]/div/div[2]/div[1]/span[1]/a[2]')[0]\n",
        "    userid = userid_element.text\n",
        "\n",
        "    #Extract Message for each user on a page\n",
        "    user_message = wd.find_elements_by_xpath('//*[@id=\"' + x +'\"]/div/div[3]/div/div[1]')[0]\n",
        "    comment = user_message.text\n",
        "                                   \n",
        "    #Adding date, userid and comment for each user in a dataframe    \n",
        "    comments.loc[len(comments)] = [date,userid,comment]\n",
        "    \n",
        "  total_comments = total_comments.append(comments, ignore_index=True)\n",
        "    # print(comments)\n",
        "\n",
        "total_comments"
      ],
      "execution_count": null,
      "outputs": [
        {
          "output_type": "execute_result",
          "data": {
            "text/html": [
              "<div>\n",
              "<style scoped>\n",
              "    .dataframe tbody tr th:only-of-type {\n",
              "        vertical-align: middle;\n",
              "    }\n",
              "\n",
              "    .dataframe tbody tr th {\n",
              "        vertical-align: top;\n",
              "    }\n",
              "\n",
              "    .dataframe thead th {\n",
              "        text-align: right;\n",
              "    }\n",
              "</style>\n",
              "<table border=\"1\" class=\"dataframe\">\n",
              "  <thead>\n",
              "    <tr style=\"text-align: right;\">\n",
              "      <th></th>\n",
              "      <th>Date</th>\n",
              "      <th>user_id</th>\n",
              "      <th>comments</th>\n",
              "    </tr>\n",
              "  </thead>\n",
              "  <tbody>\n",
              "    <tr>\n",
              "      <th>0</th>\n",
              "      <td>April 11, 2007 7:52PM</td>\n",
              "      <td>motownusa</td>\n",
              "      <td>Hi Pat:\\n\\nYou forgot the Chrysler Sebring</td>\n",
              "    </tr>\n",
              "    <tr>\n",
              "      <th>1</th>\n",
              "      <td>April 11, 2007 8:33PM</td>\n",
              "      <td>exshoman</td>\n",
              "      <td>I'm sure some folks would appreciate having th...</td>\n",
              "    </tr>\n",
              "    <tr>\n",
              "      <th>2</th>\n",
              "      <td>April 12, 2007 7:51AM</td>\n",
              "      <td>targettuning</td>\n",
              "      <td>You can try to revive this topic but without b...</td>\n",
              "    </tr>\n",
              "    <tr>\n",
              "      <th>3</th>\n",
              "      <td>April 12, 2007 9:43AM</td>\n",
              "      <td>pat</td>\n",
              "      <td>Model vs. model is exactly what we're here for...</td>\n",
              "    </tr>\n",
              "    <tr>\n",
              "      <th>4</th>\n",
              "      <td>April 13, 2007 12:49PM</td>\n",
              "      <td>perna</td>\n",
              "      <td>The Altima is my favorite of the bunch. It is ...</td>\n",
              "    </tr>\n",
              "    <tr>\n",
              "      <th>...</th>\n",
              "      <td>...</td>\n",
              "      <td>...</td>\n",
              "      <td>...</td>\n",
              "    </tr>\n",
              "    <tr>\n",
              "      <th>4995</th>\n",
              "      <td>September 12, 2007 11:19AM</td>\n",
              "      <td>bristol2</td>\n",
              "      <td>its pretty obvious that your are an accord che...</td>\n",
              "    </tr>\n",
              "    <tr>\n",
              "      <th>4996</th>\n",
              "      <td>September 12, 2007 11:27AM</td>\n",
              "      <td>andres3</td>\n",
              "      <td>Since the Altima tops the CamCord in hp and st...</td>\n",
              "    </tr>\n",
              "    <tr>\n",
              "      <th>4997</th>\n",
              "      <td>September 12, 2007 11:31AM</td>\n",
              "      <td>1487</td>\n",
              "      <td>\"That's great that the Fusion has all those fe...</td>\n",
              "    </tr>\n",
              "    <tr>\n",
              "      <th>4998</th>\n",
              "      <td>September 12, 2007 11:34AM</td>\n",
              "      <td>bristol2</td>\n",
              "      <td>People often say Honda and Toyota \"dominate\" t...</td>\n",
              "    </tr>\n",
              "    <tr>\n",
              "      <th>4999</th>\n",
              "      <td>September 12, 2007 11:36AM</td>\n",
              "      <td>1487</td>\n",
              "      <td>accord hybrid is done right about........now. ...</td>\n",
              "    </tr>\n",
              "  </tbody>\n",
              "</table>\n",
              "<p>5000 rows × 3 columns</p>\n",
              "</div>"
            ],
            "text/plain": [
              "                            Date  ...                                           comments\n",
              "0          April 11, 2007 7:52PM  ...         Hi Pat:\\n\\nYou forgot the Chrysler Sebring\n",
              "1          April 11, 2007 8:33PM  ...  I'm sure some folks would appreciate having th...\n",
              "2          April 12, 2007 7:51AM  ...  You can try to revive this topic but without b...\n",
              "3          April 12, 2007 9:43AM  ...  Model vs. model is exactly what we're here for...\n",
              "4         April 13, 2007 12:49PM  ...  The Altima is my favorite of the bunch. It is ...\n",
              "...                          ...  ...                                                ...\n",
              "4995  September 12, 2007 11:19AM  ...  its pretty obvious that your are an accord che...\n",
              "4996  September 12, 2007 11:27AM  ...  Since the Altima tops the CamCord in hp and st...\n",
              "4997  September 12, 2007 11:31AM  ...  \"That's great that the Fusion has all those fe...\n",
              "4998  September 12, 2007 11:34AM  ...  People often say Honda and Toyota \"dominate\" t...\n",
              "4999  September 12, 2007 11:36AM  ...  accord hybrid is done right about........now. ...\n",
              "\n",
              "[5000 rows x 3 columns]"
            ]
          },
          "metadata": {
            "tags": []
          },
          "execution_count": 18
        }
      ]
    },
    {
      "cell_type": "code",
      "metadata": {
        "id": "n22b3Y7SqIgX",
        "colab_type": "code",
        "colab": {
          "base_uri": "https://localhost:8080/",
          "height": 185
        },
        "outputId": "82dee900-6bba-48ff-d194-544b5b949510"
      },
      "source": [
        "total_comments.to_csv(\"final_results.csv\")\n",
        "!ls"
      ],
      "execution_count": null,
      "outputs": [
        {
          "output_type": "error",
          "ename": "NameError",
          "evalue": "ignored",
          "traceback": [
            "\u001b[0;31m---------------------------------------------------------------------------\u001b[0m",
            "\u001b[0;31mNameError\u001b[0m                                 Traceback (most recent call last)",
            "\u001b[0;32m<ipython-input-9-3b632d30a82f>\u001b[0m in \u001b[0;36m<module>\u001b[0;34m()\u001b[0m\n\u001b[0;32m----> 1\u001b[0;31m \u001b[0mtotal_comments\u001b[0m\u001b[0;34m.\u001b[0m\u001b[0mto_csv\u001b[0m\u001b[0;34m(\u001b[0m\u001b[0;34m\"final_results.csv\"\u001b[0m\u001b[0;34m)\u001b[0m\u001b[0;34m\u001b[0m\u001b[0;34m\u001b[0m\u001b[0m\n\u001b[0m\u001b[1;32m      2\u001b[0m \u001b[0mget_ipython\u001b[0m\u001b[0;34m(\u001b[0m\u001b[0;34m)\u001b[0m\u001b[0;34m.\u001b[0m\u001b[0msystem\u001b[0m\u001b[0;34m(\u001b[0m\u001b[0;34m'ls'\u001b[0m\u001b[0;34m)\u001b[0m\u001b[0;34m\u001b[0m\u001b[0;34m\u001b[0m\u001b[0m\n",
            "\u001b[0;31mNameError\u001b[0m: name 'total_comments' is not defined"
          ]
        }
      ]
    },
    {
      "cell_type": "code",
      "metadata": {
        "id": "ZsNvbg2Mrrhl",
        "colab_type": "code",
        "colab": {}
      },
      "source": [
        "#################################\n",
        "# here starts data preprocessing\n",
        "#################################"
      ],
      "execution_count": null,
      "outputs": []
    },
    {
      "cell_type": "code",
      "metadata": {
        "id": "JIoyPIIlUZdi",
        "colab_type": "code",
        "colab": {
          "resources": {
            "http://localhost:8080/nbextensions/google.colab/files.js": {
              "data": "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",
              "ok": true,
              "headers": [
                [
                  "content-type",
                  "application/javascript"
                ]
              ],
              "status": 200,
              "status_text": ""
            }
          },
          "base_uri": "https://localhost:8080/",
          "height": 73
        },
        "outputId": "e2798430-68af-4f23-a7b3-091c3bc6bdcc"
      },
      "source": [
        "#import csv files from above and car-brand one from Canvas\n",
        "from google.colab import files\n",
        "uploaded = files.upload()"
      ],
      "execution_count": null,
      "outputs": [
        {
          "output_type": "display_data",
          "data": {
            "text/html": [
              "\n",
              "     <input type=\"file\" id=\"files-f9bb5534-119e-4712-b700-79dc1530ac59\" name=\"files[]\" multiple disabled\n",
              "        style=\"border:none\" />\n",
              "     <output id=\"result-f9bb5534-119e-4712-b700-79dc1530ac59\">\n",
              "      Upload widget is only available when the cell has been executed in the\n",
              "      current browser session. Please rerun this cell to enable.\n",
              "      </output>\n",
              "      <script src=\"/nbextensions/google.colab/files.js\"></script> "
            ],
            "text/plain": [
              "<IPython.core.display.HTML object>"
            ]
          },
          "metadata": {
            "tags": []
          }
        },
        {
          "output_type": "stream",
          "text": [
            "Saving car models and brands.csv to car models and brands.csv\n"
          ],
          "name": "stdout"
        }
      ]
    },
    {
      "cell_type": "code",
      "metadata": {
        "id": "6Uu4mMvzUsHv",
        "colab_type": "code",
        "colab": {
          "resources": {
            "http://localhost:8080/nbextensions/google.colab/files.js": {
              "data": "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",
              "ok": true,
              "headers": [
                [
                  "content-type",
                  "application/javascript"
                ]
              ],
              "status": 200,
              "status_text": ""
            }
          },
          "base_uri": "https://localhost:8080/",
          "height": 73
        },
        "outputId": "53b99711-3ed3-4ddd-a6f6-ed60f31c985a"
      },
      "source": [
        "#import csv files from above and car-brand one from Canvas\n",
        "from google.colab import files\n",
        "uploaded = files.upload()"
      ],
      "execution_count": null,
      "outputs": [
        {
          "output_type": "display_data",
          "data": {
            "text/html": [
              "\n",
              "     <input type=\"file\" id=\"files-47be4b0f-698b-411b-80f1-fe5916a3bbc5\" name=\"files[]\" multiple disabled\n",
              "        style=\"border:none\" />\n",
              "     <output id=\"result-47be4b0f-698b-411b-80f1-fe5916a3bbc5\">\n",
              "      Upload widget is only available when the cell has been executed in the\n",
              "      current browser session. Please rerun this cell to enable.\n",
              "      </output>\n",
              "      <script src=\"/nbextensions/google.colab/files.js\"></script> "
            ],
            "text/plain": [
              "<IPython.core.display.HTML object>"
            ]
          },
          "metadata": {
            "tags": []
          }
        },
        {
          "output_type": "stream",
          "text": [
            "Saving final_results.csv to final_results.csv\n"
          ],
          "name": "stdout"
        }
      ]
    },
    {
      "cell_type": "code",
      "metadata": {
        "id": "INr_PfFW2iT8",
        "colab_type": "code",
        "colab": {}
      },
      "source": [
        "from pandas import Series, DataFrame\n",
        "import pandas as pd\n",
        "import re\n",
        "import nltk\n",
        "# from nltk.tokenize import sent_tokenize, word_tokenize\n",
        "from nltk.corpus import stopwords\n",
        "\n",
        "comments = pd.read_csv(\"final_results.csv\")\n",
        "carbrands = pd.read_csv('car models and brands.csv', header = None, names = ['brands','models'])"
      ],
      "execution_count": null,
      "outputs": []
    },
    {
      "cell_type": "code",
      "metadata": {
        "id": "qwfBHAsS2jHD",
        "colab_type": "code",
        "colab": {
          "base_uri": "https://localhost:8080/",
          "height": 230
        },
        "outputId": "8c90f16d-0789-4021-c23e-2a11b7741e29"
      },
      "source": [
        "def remove_punc(x):\n",
        "    no_punc = re.sub(r'[^\\w\\s]','',x)\n",
        "    return no_punc\n",
        "carbrands['brands'].apply(remove_punc)\n",
        "\n",
        "carbrands[\"combine\"] = carbrands[[\"brands\", \"models\"]].values.tolist()\n",
        "models_to_brands = {}\n",
        "\n",
        "def switch(match):\n",
        "    brand = match[0]\n",
        "    model = match[1]\n",
        "    if brand not in models_to_brands.keys():\n",
        "        models_to_brands[brand] = [model]\n",
        "    else:\n",
        "#         tmp = models_to_brands.get(brand)\n",
        "        models_to_brands[brand].append(model)\n",
        "\n",
        "carbrands[\"combine\"].apply(switch)"
      ],
      "execution_count": null,
      "outputs": [
        {
          "output_type": "execute_result",
          "data": {
            "text/plain": [
              "0      None\n",
              "1      None\n",
              "2      None\n",
              "3      None\n",
              "4      None\n",
              "       ... \n",
              "525    None\n",
              "526    None\n",
              "527    None\n",
              "528    None\n",
              "529    None\n",
              "Name: combine, Length: 530, dtype: object"
            ]
          },
          "metadata": {
            "tags": []
          },
          "execution_count": 14
        }
      ]
    },
    {
      "cell_type": "code",
      "metadata": {
        "id": "HvSV0BjQ2uLH",
        "colab_type": "code",
        "colab": {
          "base_uri": "https://localhost:8080/",
          "height": 52
        },
        "outputId": "4732b982-b4c1-4ea8-f1dd-4195d81795c3"
      },
      "source": [
        "nltk.download('stopwords')\n",
        "def lower(string):\n",
        "    return str(string).lower()\n",
        "comments[\"comments\"] = comments[\"comments\"].apply(lower)\n",
        "\n",
        "def findre(string):\n",
        "    return re.findall(\"([a-zA-Z]+)\", string)\n",
        "comments[\"list_of_words\"] = comments[\"comments\"].apply(findre)\n",
        "\n",
        "stop_words = set(stopwords.words('english'))\n",
        "\n",
        "def remove_single(s):\n",
        "    return [w for w in s if not w in list(map(chr, range(97, 123)))] \n",
        "\n",
        "def remove_stopwords(s):\n",
        "    return [w for w in s if not w in stop_words] \n",
        "comments[\"final_version\"] = comments[\"list_of_words\"].apply(remove_stopwords)\n",
        "comments[\"final_version\"] = comments[\"final_version\"].apply(remove_single)\n",
        "def replace_model_name(word_list):\n",
        "    for pos in range(len(word_list)-1):\n",
        "#         if word_list[pos] in models_to_brands.values():\n",
        "        for key, value in models_to_brands.items():\n",
        "           if word_list[pos] in value:\n",
        "                word_list[pos] = key\n",
        "    return word_list\n",
        "\n",
        "comments[\"replace_version\"] = comments[\"final_version\"].apply(replace_model_name)"
      ],
      "execution_count": null,
      "outputs": [
        {
          "output_type": "stream",
          "text": [
            "[nltk_data] Downloading package stopwords to /root/nltk_data...\n",
            "[nltk_data]   Unzipping corpora/stopwords.zip.\n"
          ],
          "name": "stdout"
        }
      ]
    },
    {
      "cell_type": "code",
      "metadata": {
        "id": "I9l5Ku962vyQ",
        "colab_type": "code",
        "colab": {
          "base_uri": "https://localhost:8080/",
          "height": 230
        },
        "outputId": "2ee22962-fc03-4a0f-c326-4281fa8a1391"
      },
      "source": [
        "def word_count(words_list):\n",
        "    dictionary = {}\n",
        "    for words in words_list:\n",
        "        if words not in dictionary.keys():\n",
        "            dictionary[words] = 1\n",
        "    return dictionary\n",
        "comments[\"dictionary_version\"] = comments[\"replace_version\"].apply(word_count)\n",
        "\n",
        "final_dict = {}\n",
        "\n",
        "def update_dict(dictionary):\n",
        "    for key in dictionary.keys():\n",
        "        if key in final_dict.keys():\n",
        "            final_dict[key] += 1\n",
        "        else:\n",
        "            final_dict[key] = 1\n",
        "        \n",
        "comments[\"dictionary_version\"].apply(update_dict)"
      ],
      "execution_count": null,
      "outputs": [
        {
          "output_type": "execute_result",
          "data": {
            "text/plain": [
              "0       None\n",
              "1       None\n",
              "2       None\n",
              "3       None\n",
              "4       None\n",
              "        ... \n",
              "4995    None\n",
              "4996    None\n",
              "4997    None\n",
              "4998    None\n",
              "4999    None\n",
              "Name: dictionary_version, Length: 5000, dtype: object"
            ]
          },
          "metadata": {
            "tags": []
          },
          "execution_count": 19
        }
      ]
    },
    {
      "cell_type": "code",
      "metadata": {
        "id": "tyTsBTKg2xp3",
        "colab_type": "code",
        "colab": {
          "base_uri": "https://localhost:8080/",
          "height": 34
        },
        "outputId": "c8d87509-44c2-4a39-91c0-0e48dc9b87eb"
      },
      "source": [
        "df = pd.DataFrame.from_dict(final_dict, orient='index')\n",
        "# df.rename(columns = \"0\", inplace = True)\n",
        "word_freq_list = df[0].sort_values(ascending=False).index.tolist()\n",
        "word_freq_list[0:5]"
      ],
      "execution_count": null,
      "outputs": [
        {
          "output_type": "execute_result",
          "data": {
            "text/plain": [
              "['car', 'honda', 'ford', 'like', 'would']"
            ]
          },
          "metadata": {
            "tags": []
          },
          "execution_count": 22
        }
      ]
    },
    {
      "cell_type": "code",
      "metadata": {
        "id": "YyIFwosL2x6z",
        "colab_type": "code",
        "colab": {
          "base_uri": "https://localhost:8080/",
          "height": 34
        },
        "outputId": "c6a2f26e-3893-42e1-dc7f-3aa11d50a2ea"
      },
      "source": [
        "top_brands = []\n",
        "for name in word_freq_list:\n",
        "    if name in models_to_brands.keys():\n",
        "        top_brands.append(name)\n",
        "top_brands[0:5]"
      ],
      "execution_count": null,
      "outputs": [
        {
          "output_type": "execute_result",
          "data": {
            "text/plain": [
              "['car', 'honda', 'ford', 'toyota', 'hyundai']"
            ]
          },
          "metadata": {
            "tags": []
          },
          "execution_count": 24
        }
      ]
    },
    {
      "cell_type": "code",
      "metadata": {
        "id": "DvdGyhs82zFW",
        "colab_type": "code",
        "colab": {
          "base_uri": "https://localhost:8080/",
          "height": 347
        },
        "outputId": "8e64fab1-9cf3-438f-86f7-2a0011ff229d"
      },
      "source": [
        "top_list = top_brands[:14]\n",
        "top_list.remove(\"car\")\n",
        "top_list.remove(\"problem\")\n",
        "top_list.remove(\"sedan\")\n",
        "top_list.remove(\"seat\")\n",
        "top_list = pd.DataFrame(top_list)\n",
        "top_list"
      ],
      "execution_count": null,
      "outputs": [
        {
          "output_type": "execute_result",
          "data": {
            "text/html": [
              "<div>\n",
              "<style scoped>\n",
              "    .dataframe tbody tr th:only-of-type {\n",
              "        vertical-align: middle;\n",
              "    }\n",
              "\n",
              "    .dataframe tbody tr th {\n",
              "        vertical-align: top;\n",
              "    }\n",
              "\n",
              "    .dataframe thead th {\n",
              "        text-align: right;\n",
              "    }\n",
              "</style>\n",
              "<table border=\"1\" class=\"dataframe\">\n",
              "  <thead>\n",
              "    <tr style=\"text-align: right;\">\n",
              "      <th></th>\n",
              "      <th>0</th>\n",
              "    </tr>\n",
              "  </thead>\n",
              "  <tbody>\n",
              "    <tr>\n",
              "      <th>0</th>\n",
              "      <td>honda</td>\n",
              "    </tr>\n",
              "    <tr>\n",
              "      <th>1</th>\n",
              "      <td>ford</td>\n",
              "    </tr>\n",
              "    <tr>\n",
              "      <th>2</th>\n",
              "      <td>toyota</td>\n",
              "    </tr>\n",
              "    <tr>\n",
              "      <th>3</th>\n",
              "      <td>hyundai</td>\n",
              "    </tr>\n",
              "    <tr>\n",
              "      <th>4</th>\n",
              "      <td>mazda</td>\n",
              "    </tr>\n",
              "    <tr>\n",
              "      <th>5</th>\n",
              "      <td>nissan</td>\n",
              "    </tr>\n",
              "    <tr>\n",
              "      <th>6</th>\n",
              "      <td>saturn</td>\n",
              "    </tr>\n",
              "    <tr>\n",
              "      <th>7</th>\n",
              "      <td>chevrolet</td>\n",
              "    </tr>\n",
              "    <tr>\n",
              "      <th>8</th>\n",
              "      <td>chrysler</td>\n",
              "    </tr>\n",
              "    <tr>\n",
              "      <th>9</th>\n",
              "      <td>subaru</td>\n",
              "    </tr>\n",
              "  </tbody>\n",
              "</table>\n",
              "</div>"
            ],
            "text/plain": [
              "           0\n",
              "0      honda\n",
              "1       ford\n",
              "2     toyota\n",
              "3    hyundai\n",
              "4      mazda\n",
              "5     nissan\n",
              "6     saturn\n",
              "7  chevrolet\n",
              "8   chrysler\n",
              "9     subaru"
            ]
          },
          "metadata": {
            "tags": []
          },
          "execution_count": 33
        }
      ]
    },
    {
      "cell_type": "code",
      "metadata": {
        "id": "8cvmPcXf20VR",
        "colab_type": "code",
        "colab": {
          "base_uri": "https://localhost:8080/",
          "height": 347
        },
        "outputId": "f427f616-e402-4145-aaee-5634249c8d31"
      },
      "source": [
        "def findcount(string):\n",
        "    return df.loc[string]\n",
        "top_list[\"count\"] = top_list[0].apply(findcount)\n",
        "top_list"
      ],
      "execution_count": null,
      "outputs": [
        {
          "output_type": "execute_result",
          "data": {
            "text/html": [
              "<div>\n",
              "<style scoped>\n",
              "    .dataframe tbody tr th:only-of-type {\n",
              "        vertical-align: middle;\n",
              "    }\n",
              "\n",
              "    .dataframe tbody tr th {\n",
              "        vertical-align: top;\n",
              "    }\n",
              "\n",
              "    .dataframe thead th {\n",
              "        text-align: right;\n",
              "    }\n",
              "</style>\n",
              "<table border=\"1\" class=\"dataframe\">\n",
              "  <thead>\n",
              "    <tr style=\"text-align: right;\">\n",
              "      <th></th>\n",
              "      <th>0</th>\n",
              "      <th>count</th>\n",
              "    </tr>\n",
              "  </thead>\n",
              "  <tbody>\n",
              "    <tr>\n",
              "      <th>0</th>\n",
              "      <td>honda</td>\n",
              "      <td>2109</td>\n",
              "    </tr>\n",
              "    <tr>\n",
              "      <th>1</th>\n",
              "      <td>ford</td>\n",
              "      <td>1392</td>\n",
              "    </tr>\n",
              "    <tr>\n",
              "      <th>2</th>\n",
              "      <td>toyota</td>\n",
              "      <td>1005</td>\n",
              "    </tr>\n",
              "    <tr>\n",
              "      <th>3</th>\n",
              "      <td>hyundai</td>\n",
              "      <td>625</td>\n",
              "    </tr>\n",
              "    <tr>\n",
              "      <th>4</th>\n",
              "      <td>mazda</td>\n",
              "      <td>605</td>\n",
              "    </tr>\n",
              "    <tr>\n",
              "      <th>5</th>\n",
              "      <td>nissan</td>\n",
              "      <td>604</td>\n",
              "    </tr>\n",
              "    <tr>\n",
              "      <th>6</th>\n",
              "      <td>sedan</td>\n",
              "      <td>503</td>\n",
              "    </tr>\n",
              "    <tr>\n",
              "      <th>7</th>\n",
              "      <td>saturn</td>\n",
              "      <td>258</td>\n",
              "    </tr>\n",
              "    <tr>\n",
              "      <th>8</th>\n",
              "      <td>chevrolet</td>\n",
              "      <td>251</td>\n",
              "    </tr>\n",
              "    <tr>\n",
              "      <th>9</th>\n",
              "      <td>seat</td>\n",
              "      <td>234</td>\n",
              "    </tr>\n",
              "  </tbody>\n",
              "</table>\n",
              "</div>"
            ],
            "text/plain": [
              "           0  count\n",
              "0      honda   2109\n",
              "1       ford   1392\n",
              "2     toyota   1005\n",
              "3    hyundai    625\n",
              "4      mazda    605\n",
              "5     nissan    604\n",
              "6      sedan    503\n",
              "7     saturn    258\n",
              "8  chevrolet    251\n",
              "9       seat    234"
            ]
          },
          "metadata": {
            "tags": []
          },
          "execution_count": 29
        }
      ]
    },
    {
      "cell_type": "code",
      "metadata": {
        "id": "f7RmW-vv217d",
        "colab_type": "code",
        "colab": {}
      },
      "source": [
        "##########################\n",
        "# stop data preprocessing\n",
        "#########################"
      ],
      "execution_count": null,
      "outputs": []
    },
    {
      "cell_type": "code",
      "metadata": {
        "id": "DLiD_EqRrsMi",
        "colab_type": "code",
        "colab": {
          "base_uri": "https://localhost:8080/",
          "height": 297
        },
        "outputId": "80744b18-a045-446c-e333-398e6fc873da"
      },
      "source": [
        "df = comments\n",
        "df.head()"
      ],
      "execution_count": null,
      "outputs": [
        {
          "output_type": "execute_result",
          "data": {
            "text/html": [
              "<div>\n",
              "<style scoped>\n",
              "    .dataframe tbody tr th:only-of-type {\n",
              "        vertical-align: middle;\n",
              "    }\n",
              "\n",
              "    .dataframe tbody tr th {\n",
              "        vertical-align: top;\n",
              "    }\n",
              "\n",
              "    .dataframe thead th {\n",
              "        text-align: right;\n",
              "    }\n",
              "</style>\n",
              "<table border=\"1\" class=\"dataframe\">\n",
              "  <thead>\n",
              "    <tr style=\"text-align: right;\">\n",
              "      <th></th>\n",
              "      <th>Unnamed: 0</th>\n",
              "      <th>Date</th>\n",
              "      <th>user_id</th>\n",
              "      <th>comments</th>\n",
              "      <th>list_of_words</th>\n",
              "      <th>final_version</th>\n",
              "      <th>replace_version</th>\n",
              "      <th>dictionary_version</th>\n",
              "    </tr>\n",
              "  </thead>\n",
              "  <tbody>\n",
              "    <tr>\n",
              "      <th>0</th>\n",
              "      <td>0</td>\n",
              "      <td>April 11, 2007 7:52PM</td>\n",
              "      <td>motownusa</td>\n",
              "      <td>hi pat:\\n\\nyou forgot the chrysler sebring</td>\n",
              "      <td>[hi, pat, you, forgot, the, chrysler, sebring]</td>\n",
              "      <td>[hi, pat, forgot, chrysler, sebring]</td>\n",
              "      <td>[hi, pat, forgot, chrysler, sebring]</td>\n",
              "      <td>{'hi': 1, 'pat': 1, 'forgot': 1, 'chrysler': 1...</td>\n",
              "    </tr>\n",
              "    <tr>\n",
              "      <th>1</th>\n",
              "      <td>1</td>\n",
              "      <td>April 11, 2007 8:33PM</td>\n",
              "      <td>exshoman</td>\n",
              "      <td>i'm sure some folks would appreciate having th...</td>\n",
              "      <td>[i, m, sure, some, folks, would, appreciate, h...</td>\n",
              "      <td>[sure, folks, would, appreciate, chevrolet, in...</td>\n",
              "      <td>[sure, folks, would, appreciate, chevrolet, in...</td>\n",
              "      <td>{'sure': 1, 'folks': 1, 'would': 1, 'appreciat...</td>\n",
              "    </tr>\n",
              "    <tr>\n",
              "      <th>2</th>\n",
              "      <td>2</td>\n",
              "      <td>April 12, 2007 7:51AM</td>\n",
              "      <td>targettuning</td>\n",
              "      <td>you can try to revive this topic but without b...</td>\n",
              "      <td>[you, can, try, to, revive, this, topic, but, ...</td>\n",
              "      <td>[try, revive, topic, without, able, discuss, h...</td>\n",
              "      <td>[try, revive, topic, without, able, discuss, h...</td>\n",
              "      <td>{'try': 1, 'revive': 1, 'topic': 1, 'without':...</td>\n",
              "    </tr>\n",
              "    <tr>\n",
              "      <th>3</th>\n",
              "      <td>3</td>\n",
              "      <td>April 12, 2007 9:43AM</td>\n",
              "      <td>pat</td>\n",
              "      <td>model vs. model is exactly what we're here for...</td>\n",
              "      <td>[model, vs, model, is, exactly, what, we, re, ...</td>\n",
              "      <td>[model, vs, model, exactly, manufacturer, vs, ...</td>\n",
              "      <td>[model, vs, model, exactly, manufacturer, vs, ...</td>\n",
              "      <td>{'model': 1, 'vs': 1, 'exactly': 1, 'manufactu...</td>\n",
              "    </tr>\n",
              "    <tr>\n",
              "      <th>4</th>\n",
              "      <td>4</td>\n",
              "      <td>April 13, 2007 12:49PM</td>\n",
              "      <td>perna</td>\n",
              "      <td>the altima is my favorite of the bunch. it is ...</td>\n",
              "      <td>[the, altima, is, my, favorite, of, the, bunch...</td>\n",
              "      <td>[nissan, favorite, bunch, amongst, fastest, be...</td>\n",
              "      <td>[nissan, favorite, bunch, amongst, fastest, be...</td>\n",
              "      <td>{'nissan': 1, 'favorite': 1, 'bunch': 1, 'amon...</td>\n",
              "    </tr>\n",
              "  </tbody>\n",
              "</table>\n",
              "</div>"
            ],
            "text/plain": [
              "   Unnamed: 0  ...                                 dictionary_version\n",
              "0           0  ...  {'hi': 1, 'pat': 1, 'forgot': 1, 'chrysler': 1...\n",
              "1           1  ...  {'sure': 1, 'folks': 1, 'would': 1, 'appreciat...\n",
              "2           2  ...  {'try': 1, 'revive': 1, 'topic': 1, 'without':...\n",
              "3           3  ...  {'model': 1, 'vs': 1, 'exactly': 1, 'manufactu...\n",
              "4           4  ...  {'nissan': 1, 'favorite': 1, 'bunch': 1, 'amon...\n",
              "\n",
              "[5 rows x 8 columns]"
            ]
          },
          "metadata": {
            "tags": []
          },
          "execution_count": 50
        }
      ]
    },
    {
      "cell_type": "code",
      "metadata": {
        "id": "pxmXNbf59Nd0",
        "colab_type": "code",
        "colab": {
          "base_uri": "https://localhost:8080/",
          "height": 377
        },
        "outputId": "83a5e2e1-265a-488e-b95e-b40066c39b78"
      },
      "source": [
        "import numpy\n",
        "top_brands= top_list[0] #change\n",
        "\n",
        "a = numpy.zeros(shape=(10,10))\n",
        "df_counts = pd.DataFrame(a, columns = top_brands, index=top_brands)\n",
        "\n",
        "\n",
        "for i in range (len(top_brands)):\n",
        "  for j in range (len(top_brands)):\n",
        "    if i == j:\n",
        "      for k in range(len(df['comments'])):\n",
        "        if top_brands[i] in df['comments'][k]:\n",
        "          df_counts.iloc[i,j] += 1\n",
        "    else:\n",
        "      for k in range(len(df['comments'])):\n",
        "        if top_brands[i] in df['comments'][k] and top_brands[j] in df['comments'][k] :\n",
        "          df_counts.iloc[i,j] += 1\n",
        "\n",
        "df_counts"
      ],
      "execution_count": null,
      "outputs": [
        {
          "output_type": "execute_result",
          "data": {
            "text/html": [
              "<div>\n",
              "<style scoped>\n",
              "    .dataframe tbody tr th:only-of-type {\n",
              "        vertical-align: middle;\n",
              "    }\n",
              "\n",
              "    .dataframe tbody tr th {\n",
              "        vertical-align: top;\n",
              "    }\n",
              "\n",
              "    .dataframe thead th {\n",
              "        text-align: right;\n",
              "    }\n",
              "</style>\n",
              "<table border=\"1\" class=\"dataframe\">\n",
              "  <thead>\n",
              "    <tr style=\"text-align: right;\">\n",
              "      <th></th>\n",
              "      <th>honda</th>\n",
              "      <th>ford</th>\n",
              "      <th>toyota</th>\n",
              "      <th>hyundai</th>\n",
              "      <th>mazda</th>\n",
              "      <th>nissan</th>\n",
              "      <th>saturn</th>\n",
              "      <th>chevrolet</th>\n",
              "      <th>chrysler</th>\n",
              "      <th>subaru</th>\n",
              "    </tr>\n",
              "    <tr>\n",
              "      <th>0</th>\n",
              "      <th></th>\n",
              "      <th></th>\n",
              "      <th></th>\n",
              "      <th></th>\n",
              "      <th></th>\n",
              "      <th></th>\n",
              "      <th></th>\n",
              "      <th></th>\n",
              "      <th></th>\n",
              "      <th></th>\n",
              "    </tr>\n",
              "  </thead>\n",
              "  <tbody>\n",
              "    <tr>\n",
              "      <th>honda</th>\n",
              "      <td>946.0</td>\n",
              "      <td>245.0</td>\n",
              "      <td>273.0</td>\n",
              "      <td>91.0</td>\n",
              "      <td>114.0</td>\n",
              "      <td>105.0</td>\n",
              "      <td>25.0</td>\n",
              "      <td>4.0</td>\n",
              "      <td>41.0</td>\n",
              "      <td>21.0</td>\n",
              "    </tr>\n",
              "    <tr>\n",
              "      <th>ford</th>\n",
              "      <td>245.0</td>\n",
              "      <td>794.0</td>\n",
              "      <td>146.0</td>\n",
              "      <td>68.0</td>\n",
              "      <td>131.0</td>\n",
              "      <td>70.0</td>\n",
              "      <td>15.0</td>\n",
              "      <td>4.0</td>\n",
              "      <td>47.0</td>\n",
              "      <td>14.0</td>\n",
              "    </tr>\n",
              "    <tr>\n",
              "      <th>toyota</th>\n",
              "      <td>273.0</td>\n",
              "      <td>146.0</td>\n",
              "      <td>394.0</td>\n",
              "      <td>59.0</td>\n",
              "      <td>42.0</td>\n",
              "      <td>83.0</td>\n",
              "      <td>15.0</td>\n",
              "      <td>3.0</td>\n",
              "      <td>33.0</td>\n",
              "      <td>14.0</td>\n",
              "    </tr>\n",
              "    <tr>\n",
              "      <th>hyundai</th>\n",
              "      <td>91.0</td>\n",
              "      <td>68.0</td>\n",
              "      <td>59.0</td>\n",
              "      <td>238.0</td>\n",
              "      <td>26.0</td>\n",
              "      <td>32.0</td>\n",
              "      <td>9.0</td>\n",
              "      <td>0.0</td>\n",
              "      <td>12.0</td>\n",
              "      <td>5.0</td>\n",
              "    </tr>\n",
              "    <tr>\n",
              "      <th>mazda</th>\n",
              "      <td>114.0</td>\n",
              "      <td>131.0</td>\n",
              "      <td>42.0</td>\n",
              "      <td>26.0</td>\n",
              "      <td>630.0</td>\n",
              "      <td>30.0</td>\n",
              "      <td>12.0</td>\n",
              "      <td>2.0</td>\n",
              "      <td>5.0</td>\n",
              "      <td>30.0</td>\n",
              "    </tr>\n",
              "    <tr>\n",
              "      <th>nissan</th>\n",
              "      <td>105.0</td>\n",
              "      <td>70.0</td>\n",
              "      <td>83.0</td>\n",
              "      <td>32.0</td>\n",
              "      <td>30.0</td>\n",
              "      <td>240.0</td>\n",
              "      <td>11.0</td>\n",
              "      <td>0.0</td>\n",
              "      <td>18.0</td>\n",
              "      <td>10.0</td>\n",
              "    </tr>\n",
              "    <tr>\n",
              "      <th>saturn</th>\n",
              "      <td>25.0</td>\n",
              "      <td>15.0</td>\n",
              "      <td>15.0</td>\n",
              "      <td>9.0</td>\n",
              "      <td>12.0</td>\n",
              "      <td>11.0</td>\n",
              "      <td>91.0</td>\n",
              "      <td>0.0</td>\n",
              "      <td>5.0</td>\n",
              "      <td>3.0</td>\n",
              "    </tr>\n",
              "    <tr>\n",
              "      <th>chevrolet</th>\n",
              "      <td>4.0</td>\n",
              "      <td>4.0</td>\n",
              "      <td>3.0</td>\n",
              "      <td>0.0</td>\n",
              "      <td>2.0</td>\n",
              "      <td>0.0</td>\n",
              "      <td>0.0</td>\n",
              "      <td>11.0</td>\n",
              "      <td>0.0</td>\n",
              "      <td>0.0</td>\n",
              "    </tr>\n",
              "    <tr>\n",
              "      <th>chrysler</th>\n",
              "      <td>41.0</td>\n",
              "      <td>47.0</td>\n",
              "      <td>33.0</td>\n",
              "      <td>12.0</td>\n",
              "      <td>5.0</td>\n",
              "      <td>18.0</td>\n",
              "      <td>5.0</td>\n",
              "      <td>0.0</td>\n",
              "      <td>111.0</td>\n",
              "      <td>4.0</td>\n",
              "    </tr>\n",
              "    <tr>\n",
              "      <th>subaru</th>\n",
              "      <td>21.0</td>\n",
              "      <td>14.0</td>\n",
              "      <td>14.0</td>\n",
              "      <td>5.0</td>\n",
              "      <td>30.0</td>\n",
              "      <td>10.0</td>\n",
              "      <td>3.0</td>\n",
              "      <td>0.0</td>\n",
              "      <td>4.0</td>\n",
              "      <td>84.0</td>\n",
              "    </tr>\n",
              "  </tbody>\n",
              "</table>\n",
              "</div>"
            ],
            "text/plain": [
              "0          honda   ford  toyota  hyundai  ...  saturn  chevrolet  chrysler  subaru\n",
              "0                                         ...                                     \n",
              "honda      946.0  245.0   273.0     91.0  ...    25.0        4.0      41.0    21.0\n",
              "ford       245.0  794.0   146.0     68.0  ...    15.0        4.0      47.0    14.0\n",
              "toyota     273.0  146.0   394.0     59.0  ...    15.0        3.0      33.0    14.0\n",
              "hyundai     91.0   68.0    59.0    238.0  ...     9.0        0.0      12.0     5.0\n",
              "mazda      114.0  131.0    42.0     26.0  ...    12.0        2.0       5.0    30.0\n",
              "nissan     105.0   70.0    83.0     32.0  ...    11.0        0.0      18.0    10.0\n",
              "saturn      25.0   15.0    15.0      9.0  ...    91.0        0.0       5.0     3.0\n",
              "chevrolet    4.0    4.0     3.0      0.0  ...     0.0       11.0       0.0     0.0\n",
              "chrysler    41.0   47.0    33.0     12.0  ...     5.0        0.0     111.0     4.0\n",
              "subaru      21.0   14.0    14.0      5.0  ...     3.0        0.0       4.0    84.0\n",
              "\n",
              "[10 rows x 10 columns]"
            ]
          },
          "metadata": {
            "tags": []
          },
          "execution_count": 51
        }
      ]
    },
    {
      "cell_type": "code",
      "metadata": {
        "id": "xxbWXEFlAZ-G",
        "colab_type": "code",
        "colab": {}
      },
      "source": [
        "df_lift = df_counts.copy()"
      ],
      "execution_count": null,
      "outputs": []
    },
    {
      "cell_type": "code",
      "metadata": {
        "id": "hQmxLXMxA_k9",
        "colab_type": "code",
        "colab": {}
      },
      "source": [
        "N = len(df[\"comments\"])\n",
        "for i in range (len(top_brands)):\n",
        "  for j in range (len(top_brands)):\n",
        "    if i == j:\n",
        "      df_lift.iloc[i,j] = 0\n",
        "    else:\n",
        "      df_lift.iloc[i,j] = N * (df_counts.iloc[i,j]) / (df_counts.iloc[i,i] * df_counts.iloc[j,j])\n"
      ],
      "execution_count": null,
      "outputs": []
    },
    {
      "cell_type": "code",
      "metadata": {
        "id": "KdnmXrTUCHBE",
        "colab_type": "code",
        "colab": {
          "base_uri": "https://localhost:8080/",
          "height": 377
        },
        "outputId": "8724142b-a06f-4b32-9f5c-5901527e2c4b"
      },
      "source": [
        "df_lift"
      ],
      "execution_count": null,
      "outputs": [
        {
          "output_type": "execute_result",
          "data": {
            "text/html": [
              "<div>\n",
              "<style scoped>\n",
              "    .dataframe tbody tr th:only-of-type {\n",
              "        vertical-align: middle;\n",
              "    }\n",
              "\n",
              "    .dataframe tbody tr th {\n",
              "        vertical-align: top;\n",
              "    }\n",
              "\n",
              "    .dataframe thead th {\n",
              "        text-align: right;\n",
              "    }\n",
              "</style>\n",
              "<table border=\"1\" class=\"dataframe\">\n",
              "  <thead>\n",
              "    <tr style=\"text-align: right;\">\n",
              "      <th></th>\n",
              "      <th>honda</th>\n",
              "      <th>ford</th>\n",
              "      <th>toyota</th>\n",
              "      <th>hyundai</th>\n",
              "      <th>mazda</th>\n",
              "      <th>nissan</th>\n",
              "      <th>saturn</th>\n",
              "      <th>chevrolet</th>\n",
              "      <th>chrysler</th>\n",
              "      <th>subaru</th>\n",
              "    </tr>\n",
              "    <tr>\n",
              "      <th>0</th>\n",
              "      <th></th>\n",
              "      <th></th>\n",
              "      <th></th>\n",
              "      <th></th>\n",
              "      <th></th>\n",
              "      <th></th>\n",
              "      <th></th>\n",
              "      <th></th>\n",
              "      <th></th>\n",
              "      <th></th>\n",
              "    </tr>\n",
              "  </thead>\n",
              "  <tbody>\n",
              "    <tr>\n",
              "      <th>honda</th>\n",
              "      <td>0.000000</td>\n",
              "      <td>1.630889</td>\n",
              "      <td>3.662227</td>\n",
              "      <td>2.020893</td>\n",
              "      <td>0.956408</td>\n",
              "      <td>2.312368</td>\n",
              "      <td>1.452036</td>\n",
              "      <td>1.921968</td>\n",
              "      <td>1.952269</td>\n",
              "      <td>1.321353</td>\n",
              "    </tr>\n",
              "    <tr>\n",
              "      <th>ford</th>\n",
              "      <td>1.630889</td>\n",
              "      <td>0.000000</td>\n",
              "      <td>2.333491</td>\n",
              "      <td>1.799208</td>\n",
              "      <td>1.309424</td>\n",
              "      <td>1.836692</td>\n",
              "      <td>1.038005</td>\n",
              "      <td>2.289902</td>\n",
              "      <td>2.666394</td>\n",
              "      <td>1.049538</td>\n",
              "    </tr>\n",
              "    <tr>\n",
              "      <th>toyota</th>\n",
              "      <td>3.662227</td>\n",
              "      <td>2.333491</td>\n",
              "      <td>0.000000</td>\n",
              "      <td>3.145928</td>\n",
              "      <td>0.846024</td>\n",
              "      <td>4.388748</td>\n",
              "      <td>2.091817</td>\n",
              "      <td>3.461006</td>\n",
              "      <td>3.772808</td>\n",
              "      <td>2.115059</td>\n",
              "    </tr>\n",
              "    <tr>\n",
              "      <th>hyundai</th>\n",
              "      <td>2.020893</td>\n",
              "      <td>1.799208</td>\n",
              "      <td>3.145928</td>\n",
              "      <td>0.000000</td>\n",
              "      <td>0.867013</td>\n",
              "      <td>2.801120</td>\n",
              "      <td>2.077754</td>\n",
              "      <td>0.000000</td>\n",
              "      <td>2.271179</td>\n",
              "      <td>1.250500</td>\n",
              "    </tr>\n",
              "    <tr>\n",
              "      <th>mazda</th>\n",
              "      <td>0.956408</td>\n",
              "      <td>1.309424</td>\n",
              "      <td>0.846024</td>\n",
              "      <td>0.867013</td>\n",
              "      <td>0.000000</td>\n",
              "      <td>0.992063</td>\n",
              "      <td>1.046572</td>\n",
              "      <td>1.443001</td>\n",
              "      <td>0.357500</td>\n",
              "      <td>2.834467</td>\n",
              "    </tr>\n",
              "    <tr>\n",
              "      <th>nissan</th>\n",
              "      <td>2.312368</td>\n",
              "      <td>1.836692</td>\n",
              "      <td>4.388748</td>\n",
              "      <td>2.801120</td>\n",
              "      <td>0.992063</td>\n",
              "      <td>0.000000</td>\n",
              "      <td>2.518315</td>\n",
              "      <td>0.000000</td>\n",
              "      <td>3.378378</td>\n",
              "      <td>2.480159</td>\n",
              "    </tr>\n",
              "    <tr>\n",
              "      <th>saturn</th>\n",
              "      <td>1.452036</td>\n",
              "      <td>1.038005</td>\n",
              "      <td>2.091817</td>\n",
              "      <td>2.077754</td>\n",
              "      <td>1.046572</td>\n",
              "      <td>2.518315</td>\n",
              "      <td>0.000000</td>\n",
              "      <td>0.000000</td>\n",
              "      <td>2.475002</td>\n",
              "      <td>1.962323</td>\n",
              "    </tr>\n",
              "    <tr>\n",
              "      <th>chevrolet</th>\n",
              "      <td>1.921968</td>\n",
              "      <td>2.289902</td>\n",
              "      <td>3.461006</td>\n",
              "      <td>0.000000</td>\n",
              "      <td>1.443001</td>\n",
              "      <td>0.000000</td>\n",
              "      <td>0.000000</td>\n",
              "      <td>0.000000</td>\n",
              "      <td>0.000000</td>\n",
              "      <td>0.000000</td>\n",
              "    </tr>\n",
              "    <tr>\n",
              "      <th>chrysler</th>\n",
              "      <td>1.952269</td>\n",
              "      <td>2.666394</td>\n",
              "      <td>3.772808</td>\n",
              "      <td>2.271179</td>\n",
              "      <td>0.357500</td>\n",
              "      <td>3.378378</td>\n",
              "      <td>2.475002</td>\n",
              "      <td>0.000000</td>\n",
              "      <td>0.000000</td>\n",
              "      <td>2.145002</td>\n",
              "    </tr>\n",
              "    <tr>\n",
              "      <th>subaru</th>\n",
              "      <td>1.321353</td>\n",
              "      <td>1.049538</td>\n",
              "      <td>2.115059</td>\n",
              "      <td>1.250500</td>\n",
              "      <td>2.834467</td>\n",
              "      <td>2.480159</td>\n",
              "      <td>1.962323</td>\n",
              "      <td>0.000000</td>\n",
              "      <td>2.145002</td>\n",
              "      <td>0.000000</td>\n",
              "    </tr>\n",
              "  </tbody>\n",
              "</table>\n",
              "</div>"
            ],
            "text/plain": [
              "0             honda      ford    toyota  ...  chevrolet  chrysler    subaru\n",
              "0                                        ...                               \n",
              "honda      0.000000  1.630889  3.662227  ...   1.921968  1.952269  1.321353\n",
              "ford       1.630889  0.000000  2.333491  ...   2.289902  2.666394  1.049538\n",
              "toyota     3.662227  2.333491  0.000000  ...   3.461006  3.772808  2.115059\n",
              "hyundai    2.020893  1.799208  3.145928  ...   0.000000  2.271179  1.250500\n",
              "mazda      0.956408  1.309424  0.846024  ...   1.443001  0.357500  2.834467\n",
              "nissan     2.312368  1.836692  4.388748  ...   0.000000  3.378378  2.480159\n",
              "saturn     1.452036  1.038005  2.091817  ...   0.000000  2.475002  1.962323\n",
              "chevrolet  1.921968  2.289902  3.461006  ...   0.000000  0.000000  0.000000\n",
              "chrysler   1.952269  2.666394  3.772808  ...   0.000000  0.000000  2.145002\n",
              "subaru     1.321353  1.049538  2.115059  ...   0.000000  2.145002  0.000000\n",
              "\n",
              "[10 rows x 10 columns]"
            ]
          },
          "metadata": {
            "tags": []
          },
          "execution_count": 55
        }
      ]
    },
    {
      "cell_type": "code",
      "metadata": {
        "id": "FOWulZEsKXXR",
        "colab_type": "code",
        "colab": {}
      },
      "source": [
        "df_lift.to_csv(\"df_lift.csv\", header = False)"
      ],
      "execution_count": null,
      "outputs": []
    },
    {
      "cell_type": "code",
      "metadata": {
        "id": "OBlgJNkgaLbC",
        "colab_type": "code",
        "colab": {
          "base_uri": "https://localhost:8080/",
          "height": 377
        },
        "outputId": "8ea7dc96-5e7c-483d-8554-bfd2af91993b"
      },
      "source": [
        "import numpy as np\n",
        "# Calculating the dissimilarity matrix which is the input for plotting MDS plot\n",
        "dissimilarity_matrix = 1/df_lift\n",
        "np.fill_diagonal(dissimilarity_matrix.values, 0)\n",
        "dissimilarity_matrix"
      ],
      "execution_count": null,
      "outputs": [
        {
          "output_type": "execute_result",
          "data": {
            "text/html": [
              "<div>\n",
              "<style scoped>\n",
              "    .dataframe tbody tr th:only-of-type {\n",
              "        vertical-align: middle;\n",
              "    }\n",
              "\n",
              "    .dataframe tbody tr th {\n",
              "        vertical-align: top;\n",
              "    }\n",
              "\n",
              "    .dataframe thead th {\n",
              "        text-align: right;\n",
              "    }\n",
              "</style>\n",
              "<table border=\"1\" class=\"dataframe\">\n",
              "  <thead>\n",
              "    <tr style=\"text-align: right;\">\n",
              "      <th></th>\n",
              "      <th>honda</th>\n",
              "      <th>ford</th>\n",
              "      <th>toyota</th>\n",
              "      <th>hyundai</th>\n",
              "      <th>mazda</th>\n",
              "      <th>nissan</th>\n",
              "      <th>saturn</th>\n",
              "      <th>chevrolet</th>\n",
              "      <th>chrysler</th>\n",
              "      <th>subaru</th>\n",
              "    </tr>\n",
              "    <tr>\n",
              "      <th>0</th>\n",
              "      <th></th>\n",
              "      <th></th>\n",
              "      <th></th>\n",
              "      <th></th>\n",
              "      <th></th>\n",
              "      <th></th>\n",
              "      <th></th>\n",
              "      <th></th>\n",
              "      <th></th>\n",
              "      <th></th>\n",
              "    </tr>\n",
              "  </thead>\n",
              "  <tbody>\n",
              "    <tr>\n",
              "      <th>honda</th>\n",
              "      <td>0.000000</td>\n",
              "      <td>0.613162</td>\n",
              "      <td>0.273058</td>\n",
              "      <td>0.494831</td>\n",
              "      <td>1.045579</td>\n",
              "      <td>0.432457</td>\n",
              "      <td>0.688688</td>\n",
              "      <td>0.520300</td>\n",
              "      <td>0.512224</td>\n",
              "      <td>0.75680</td>\n",
              "    </tr>\n",
              "    <tr>\n",
              "      <th>ford</th>\n",
              "      <td>0.613162</td>\n",
              "      <td>0.000000</td>\n",
              "      <td>0.428542</td>\n",
              "      <td>0.555800</td>\n",
              "      <td>0.763695</td>\n",
              "      <td>0.544457</td>\n",
              "      <td>0.963387</td>\n",
              "      <td>0.436700</td>\n",
              "      <td>0.375038</td>\n",
              "      <td>0.95280</td>\n",
              "    </tr>\n",
              "    <tr>\n",
              "      <th>toyota</th>\n",
              "      <td>0.273058</td>\n",
              "      <td>0.428542</td>\n",
              "      <td>0.000000</td>\n",
              "      <td>0.317871</td>\n",
              "      <td>1.182000</td>\n",
              "      <td>0.227855</td>\n",
              "      <td>0.478053</td>\n",
              "      <td>0.288933</td>\n",
              "      <td>0.265055</td>\n",
              "      <td>0.47280</td>\n",
              "    </tr>\n",
              "    <tr>\n",
              "      <th>hyundai</th>\n",
              "      <td>0.494831</td>\n",
              "      <td>0.555800</td>\n",
              "      <td>0.317871</td>\n",
              "      <td>0.000000</td>\n",
              "      <td>1.153385</td>\n",
              "      <td>0.357000</td>\n",
              "      <td>0.481289</td>\n",
              "      <td>inf</td>\n",
              "      <td>0.440300</td>\n",
              "      <td>0.79968</td>\n",
              "    </tr>\n",
              "    <tr>\n",
              "      <th>mazda</th>\n",
              "      <td>1.045579</td>\n",
              "      <td>0.763695</td>\n",
              "      <td>1.182000</td>\n",
              "      <td>1.153385</td>\n",
              "      <td>0.000000</td>\n",
              "      <td>1.008000</td>\n",
              "      <td>0.955500</td>\n",
              "      <td>0.693000</td>\n",
              "      <td>2.797200</td>\n",
              "      <td>0.35280</td>\n",
              "    </tr>\n",
              "    <tr>\n",
              "      <th>nissan</th>\n",
              "      <td>0.432457</td>\n",
              "      <td>0.544457</td>\n",
              "      <td>0.227855</td>\n",
              "      <td>0.357000</td>\n",
              "      <td>1.008000</td>\n",
              "      <td>0.000000</td>\n",
              "      <td>0.397091</td>\n",
              "      <td>inf</td>\n",
              "      <td>0.296000</td>\n",
              "      <td>0.40320</td>\n",
              "    </tr>\n",
              "    <tr>\n",
              "      <th>saturn</th>\n",
              "      <td>0.688688</td>\n",
              "      <td>0.963387</td>\n",
              "      <td>0.478053</td>\n",
              "      <td>0.481289</td>\n",
              "      <td>0.955500</td>\n",
              "      <td>0.397091</td>\n",
              "      <td>0.000000</td>\n",
              "      <td>inf</td>\n",
              "      <td>0.404040</td>\n",
              "      <td>0.50960</td>\n",
              "    </tr>\n",
              "    <tr>\n",
              "      <th>chevrolet</th>\n",
              "      <td>0.520300</td>\n",
              "      <td>0.436700</td>\n",
              "      <td>0.288933</td>\n",
              "      <td>inf</td>\n",
              "      <td>0.693000</td>\n",
              "      <td>inf</td>\n",
              "      <td>inf</td>\n",
              "      <td>0.000000</td>\n",
              "      <td>inf</td>\n",
              "      <td>inf</td>\n",
              "    </tr>\n",
              "    <tr>\n",
              "      <th>chrysler</th>\n",
              "      <td>0.512224</td>\n",
              "      <td>0.375038</td>\n",
              "      <td>0.265055</td>\n",
              "      <td>0.440300</td>\n",
              "      <td>2.797200</td>\n",
              "      <td>0.296000</td>\n",
              "      <td>0.404040</td>\n",
              "      <td>inf</td>\n",
              "      <td>0.000000</td>\n",
              "      <td>0.46620</td>\n",
              "    </tr>\n",
              "    <tr>\n",
              "      <th>subaru</th>\n",
              "      <td>0.756800</td>\n",
              "      <td>0.952800</td>\n",
              "      <td>0.472800</td>\n",
              "      <td>0.799680</td>\n",
              "      <td>0.352800</td>\n",
              "      <td>0.403200</td>\n",
              "      <td>0.509600</td>\n",
              "      <td>inf</td>\n",
              "      <td>0.466200</td>\n",
              "      <td>0.00000</td>\n",
              "    </tr>\n",
              "  </tbody>\n",
              "</table>\n",
              "</div>"
            ],
            "text/plain": [
              "0             honda      ford    toyota  ...  chevrolet  chrysler   subaru\n",
              "0                                        ...                              \n",
              "honda      0.000000  0.613162  0.273058  ...   0.520300  0.512224  0.75680\n",
              "ford       0.613162  0.000000  0.428542  ...   0.436700  0.375038  0.95280\n",
              "toyota     0.273058  0.428542  0.000000  ...   0.288933  0.265055  0.47280\n",
              "hyundai    0.494831  0.555800  0.317871  ...        inf  0.440300  0.79968\n",
              "mazda      1.045579  0.763695  1.182000  ...   0.693000  2.797200  0.35280\n",
              "nissan     0.432457  0.544457  0.227855  ...        inf  0.296000  0.40320\n",
              "saturn     0.688688  0.963387  0.478053  ...        inf  0.404040  0.50960\n",
              "chevrolet  0.520300  0.436700  0.288933  ...   0.000000       inf      inf\n",
              "chrysler   0.512224  0.375038  0.265055  ...        inf  0.000000  0.46620\n",
              "subaru     0.756800  0.952800  0.472800  ...        inf  0.466200  0.00000\n",
              "\n",
              "[10 rows x 10 columns]"
            ]
          },
          "metadata": {
            "tags": []
          },
          "execution_count": 59
        }
      ]
    },
    {
      "cell_type": "code",
      "metadata": {
        "id": "BqX3z2GTb4xs",
        "colab_type": "code",
        "colab": {
          "base_uri": "https://localhost:8080/",
          "height": 377
        },
        "outputId": "0860fc83-fa93-4ec2-a9e8-7801901614e6"
      },
      "source": [
        "#### Note there are 0 values in lift tables, resulting in inf in 1/lift. \n",
        "#We replace 0 value in lift table with 0.5 for scaling and plotting purposes\n",
        "#which will result in \"dissimilarity matrix\" with 2 just for plotting purposes\n",
        "plot_lift = df_lift.replace(0,0.5)\n",
        "plot_lift\n",
        "# plot_dis = dissimilarity_matrix.replace(inf, 5)\n",
        "# plot_dis"
      ],
      "execution_count": null,
      "outputs": [
        {
          "output_type": "execute_result",
          "data": {
            "text/html": [
              "<div>\n",
              "<style scoped>\n",
              "    .dataframe tbody tr th:only-of-type {\n",
              "        vertical-align: middle;\n",
              "    }\n",
              "\n",
              "    .dataframe tbody tr th {\n",
              "        vertical-align: top;\n",
              "    }\n",
              "\n",
              "    .dataframe thead th {\n",
              "        text-align: right;\n",
              "    }\n",
              "</style>\n",
              "<table border=\"1\" class=\"dataframe\">\n",
              "  <thead>\n",
              "    <tr style=\"text-align: right;\">\n",
              "      <th></th>\n",
              "      <th>honda</th>\n",
              "      <th>ford</th>\n",
              "      <th>toyota</th>\n",
              "      <th>hyundai</th>\n",
              "      <th>mazda</th>\n",
              "      <th>nissan</th>\n",
              "      <th>saturn</th>\n",
              "      <th>chevrolet</th>\n",
              "      <th>chrysler</th>\n",
              "      <th>subaru</th>\n",
              "    </tr>\n",
              "    <tr>\n",
              "      <th>0</th>\n",
              "      <th></th>\n",
              "      <th></th>\n",
              "      <th></th>\n",
              "      <th></th>\n",
              "      <th></th>\n",
              "      <th></th>\n",
              "      <th></th>\n",
              "      <th></th>\n",
              "      <th></th>\n",
              "      <th></th>\n",
              "    </tr>\n",
              "  </thead>\n",
              "  <tbody>\n",
              "    <tr>\n",
              "      <th>honda</th>\n",
              "      <td>0.500000</td>\n",
              "      <td>1.630889</td>\n",
              "      <td>3.662227</td>\n",
              "      <td>2.020893</td>\n",
              "      <td>0.956408</td>\n",
              "      <td>2.312368</td>\n",
              "      <td>1.452036</td>\n",
              "      <td>1.921968</td>\n",
              "      <td>1.952269</td>\n",
              "      <td>1.321353</td>\n",
              "    </tr>\n",
              "    <tr>\n",
              "      <th>ford</th>\n",
              "      <td>1.630889</td>\n",
              "      <td>0.500000</td>\n",
              "      <td>2.333491</td>\n",
              "      <td>1.799208</td>\n",
              "      <td>1.309424</td>\n",
              "      <td>1.836692</td>\n",
              "      <td>1.038005</td>\n",
              "      <td>2.289902</td>\n",
              "      <td>2.666394</td>\n",
              "      <td>1.049538</td>\n",
              "    </tr>\n",
              "    <tr>\n",
              "      <th>toyota</th>\n",
              "      <td>3.662227</td>\n",
              "      <td>2.333491</td>\n",
              "      <td>0.500000</td>\n",
              "      <td>3.145928</td>\n",
              "      <td>0.846024</td>\n",
              "      <td>4.388748</td>\n",
              "      <td>2.091817</td>\n",
              "      <td>3.461006</td>\n",
              "      <td>3.772808</td>\n",
              "      <td>2.115059</td>\n",
              "    </tr>\n",
              "    <tr>\n",
              "      <th>hyundai</th>\n",
              "      <td>2.020893</td>\n",
              "      <td>1.799208</td>\n",
              "      <td>3.145928</td>\n",
              "      <td>0.500000</td>\n",
              "      <td>0.867013</td>\n",
              "      <td>2.801120</td>\n",
              "      <td>2.077754</td>\n",
              "      <td>0.500000</td>\n",
              "      <td>2.271179</td>\n",
              "      <td>1.250500</td>\n",
              "    </tr>\n",
              "    <tr>\n",
              "      <th>mazda</th>\n",
              "      <td>0.956408</td>\n",
              "      <td>1.309424</td>\n",
              "      <td>0.846024</td>\n",
              "      <td>0.867013</td>\n",
              "      <td>0.500000</td>\n",
              "      <td>0.992063</td>\n",
              "      <td>1.046572</td>\n",
              "      <td>1.443001</td>\n",
              "      <td>0.357500</td>\n",
              "      <td>2.834467</td>\n",
              "    </tr>\n",
              "    <tr>\n",
              "      <th>nissan</th>\n",
              "      <td>2.312368</td>\n",
              "      <td>1.836692</td>\n",
              "      <td>4.388748</td>\n",
              "      <td>2.801120</td>\n",
              "      <td>0.992063</td>\n",
              "      <td>0.500000</td>\n",
              "      <td>2.518315</td>\n",
              "      <td>0.500000</td>\n",
              "      <td>3.378378</td>\n",
              "      <td>2.480159</td>\n",
              "    </tr>\n",
              "    <tr>\n",
              "      <th>saturn</th>\n",
              "      <td>1.452036</td>\n",
              "      <td>1.038005</td>\n",
              "      <td>2.091817</td>\n",
              "      <td>2.077754</td>\n",
              "      <td>1.046572</td>\n",
              "      <td>2.518315</td>\n",
              "      <td>0.500000</td>\n",
              "      <td>0.500000</td>\n",
              "      <td>2.475002</td>\n",
              "      <td>1.962323</td>\n",
              "    </tr>\n",
              "    <tr>\n",
              "      <th>chevrolet</th>\n",
              "      <td>1.921968</td>\n",
              "      <td>2.289902</td>\n",
              "      <td>3.461006</td>\n",
              "      <td>0.500000</td>\n",
              "      <td>1.443001</td>\n",
              "      <td>0.500000</td>\n",
              "      <td>0.500000</td>\n",
              "      <td>0.500000</td>\n",
              "      <td>0.500000</td>\n",
              "      <td>0.500000</td>\n",
              "    </tr>\n",
              "    <tr>\n",
              "      <th>chrysler</th>\n",
              "      <td>1.952269</td>\n",
              "      <td>2.666394</td>\n",
              "      <td>3.772808</td>\n",
              "      <td>2.271179</td>\n",
              "      <td>0.357500</td>\n",
              "      <td>3.378378</td>\n",
              "      <td>2.475002</td>\n",
              "      <td>0.500000</td>\n",
              "      <td>0.500000</td>\n",
              "      <td>2.145002</td>\n",
              "    </tr>\n",
              "    <tr>\n",
              "      <th>subaru</th>\n",
              "      <td>1.321353</td>\n",
              "      <td>1.049538</td>\n",
              "      <td>2.115059</td>\n",
              "      <td>1.250500</td>\n",
              "      <td>2.834467</td>\n",
              "      <td>2.480159</td>\n",
              "      <td>1.962323</td>\n",
              "      <td>0.500000</td>\n",
              "      <td>2.145002</td>\n",
              "      <td>0.500000</td>\n",
              "    </tr>\n",
              "  </tbody>\n",
              "</table>\n",
              "</div>"
            ],
            "text/plain": [
              "0             honda      ford    toyota  ...  chevrolet  chrysler    subaru\n",
              "0                                        ...                               \n",
              "honda      0.500000  1.630889  3.662227  ...   1.921968  1.952269  1.321353\n",
              "ford       1.630889  0.500000  2.333491  ...   2.289902  2.666394  1.049538\n",
              "toyota     3.662227  2.333491  0.500000  ...   3.461006  3.772808  2.115059\n",
              "hyundai    2.020893  1.799208  3.145928  ...   0.500000  2.271179  1.250500\n",
              "mazda      0.956408  1.309424  0.846024  ...   1.443001  0.357500  2.834467\n",
              "nissan     2.312368  1.836692  4.388748  ...   0.500000  3.378378  2.480159\n",
              "saturn     1.452036  1.038005  2.091817  ...   0.500000  2.475002  1.962323\n",
              "chevrolet  1.921968  2.289902  3.461006  ...   0.500000  0.500000  0.500000\n",
              "chrysler   1.952269  2.666394  3.772808  ...   0.500000  0.500000  2.145002\n",
              "subaru     1.321353  1.049538  2.115059  ...   0.500000  2.145002  0.500000\n",
              "\n",
              "[10 rows x 10 columns]"
            ]
          },
          "metadata": {
            "tags": []
          },
          "execution_count": 79
        }
      ]
    },
    {
      "cell_type": "code",
      "metadata": {
        "id": "uEO9bOfwc5E-",
        "colab_type": "code",
        "colab": {
          "base_uri": "https://localhost:8080/",
          "height": 377
        },
        "outputId": "319ba066-f1db-4b4a-8d8f-6a8cad042e10"
      },
      "source": [
        "# Calculating the dissimilarity matrix which is the input for plotting MDS plot\n",
        "plot_dis = 1/plot_lift\n",
        "np.fill_diagonal(plot_dis.values, 0)\n",
        "plot_dis"
      ],
      "execution_count": null,
      "outputs": [
        {
          "output_type": "execute_result",
          "data": {
            "text/html": [
              "<div>\n",
              "<style scoped>\n",
              "    .dataframe tbody tr th:only-of-type {\n",
              "        vertical-align: middle;\n",
              "    }\n",
              "\n",
              "    .dataframe tbody tr th {\n",
              "        vertical-align: top;\n",
              "    }\n",
              "\n",
              "    .dataframe thead th {\n",
              "        text-align: right;\n",
              "    }\n",
              "</style>\n",
              "<table border=\"1\" class=\"dataframe\">\n",
              "  <thead>\n",
              "    <tr style=\"text-align: right;\">\n",
              "      <th></th>\n",
              "      <th>honda</th>\n",
              "      <th>ford</th>\n",
              "      <th>toyota</th>\n",
              "      <th>hyundai</th>\n",
              "      <th>mazda</th>\n",
              "      <th>nissan</th>\n",
              "      <th>saturn</th>\n",
              "      <th>chevrolet</th>\n",
              "      <th>chrysler</th>\n",
              "      <th>subaru</th>\n",
              "    </tr>\n",
              "    <tr>\n",
              "      <th>0</th>\n",
              "      <th></th>\n",
              "      <th></th>\n",
              "      <th></th>\n",
              "      <th></th>\n",
              "      <th></th>\n",
              "      <th></th>\n",
              "      <th></th>\n",
              "      <th></th>\n",
              "      <th></th>\n",
              "      <th></th>\n",
              "    </tr>\n",
              "  </thead>\n",
              "  <tbody>\n",
              "    <tr>\n",
              "      <th>honda</th>\n",
              "      <td>0.000000</td>\n",
              "      <td>0.613162</td>\n",
              "      <td>0.273058</td>\n",
              "      <td>0.494831</td>\n",
              "      <td>1.045579</td>\n",
              "      <td>0.432457</td>\n",
              "      <td>0.688688</td>\n",
              "      <td>0.520300</td>\n",
              "      <td>0.512224</td>\n",
              "      <td>0.75680</td>\n",
              "    </tr>\n",
              "    <tr>\n",
              "      <th>ford</th>\n",
              "      <td>0.613162</td>\n",
              "      <td>0.000000</td>\n",
              "      <td>0.428542</td>\n",
              "      <td>0.555800</td>\n",
              "      <td>0.763695</td>\n",
              "      <td>0.544457</td>\n",
              "      <td>0.963387</td>\n",
              "      <td>0.436700</td>\n",
              "      <td>0.375038</td>\n",
              "      <td>0.95280</td>\n",
              "    </tr>\n",
              "    <tr>\n",
              "      <th>toyota</th>\n",
              "      <td>0.273058</td>\n",
              "      <td>0.428542</td>\n",
              "      <td>0.000000</td>\n",
              "      <td>0.317871</td>\n",
              "      <td>1.182000</td>\n",
              "      <td>0.227855</td>\n",
              "      <td>0.478053</td>\n",
              "      <td>0.288933</td>\n",
              "      <td>0.265055</td>\n",
              "      <td>0.47280</td>\n",
              "    </tr>\n",
              "    <tr>\n",
              "      <th>hyundai</th>\n",
              "      <td>0.494831</td>\n",
              "      <td>0.555800</td>\n",
              "      <td>0.317871</td>\n",
              "      <td>0.000000</td>\n",
              "      <td>1.153385</td>\n",
              "      <td>0.357000</td>\n",
              "      <td>0.481289</td>\n",
              "      <td>2.000000</td>\n",
              "      <td>0.440300</td>\n",
              "      <td>0.79968</td>\n",
              "    </tr>\n",
              "    <tr>\n",
              "      <th>mazda</th>\n",
              "      <td>1.045579</td>\n",
              "      <td>0.763695</td>\n",
              "      <td>1.182000</td>\n",
              "      <td>1.153385</td>\n",
              "      <td>0.000000</td>\n",
              "      <td>1.008000</td>\n",
              "      <td>0.955500</td>\n",
              "      <td>0.693000</td>\n",
              "      <td>2.797200</td>\n",
              "      <td>0.35280</td>\n",
              "    </tr>\n",
              "    <tr>\n",
              "      <th>nissan</th>\n",
              "      <td>0.432457</td>\n",
              "      <td>0.544457</td>\n",
              "      <td>0.227855</td>\n",
              "      <td>0.357000</td>\n",
              "      <td>1.008000</td>\n",
              "      <td>0.000000</td>\n",
              "      <td>0.397091</td>\n",
              "      <td>2.000000</td>\n",
              "      <td>0.296000</td>\n",
              "      <td>0.40320</td>\n",
              "    </tr>\n",
              "    <tr>\n",
              "      <th>saturn</th>\n",
              "      <td>0.688688</td>\n",
              "      <td>0.963387</td>\n",
              "      <td>0.478053</td>\n",
              "      <td>0.481289</td>\n",
              "      <td>0.955500</td>\n",
              "      <td>0.397091</td>\n",
              "      <td>0.000000</td>\n",
              "      <td>2.000000</td>\n",
              "      <td>0.404040</td>\n",
              "      <td>0.50960</td>\n",
              "    </tr>\n",
              "    <tr>\n",
              "      <th>chevrolet</th>\n",
              "      <td>0.520300</td>\n",
              "      <td>0.436700</td>\n",
              "      <td>0.288933</td>\n",
              "      <td>2.000000</td>\n",
              "      <td>0.693000</td>\n",
              "      <td>2.000000</td>\n",
              "      <td>2.000000</td>\n",
              "      <td>0.000000</td>\n",
              "      <td>2.000000</td>\n",
              "      <td>2.00000</td>\n",
              "    </tr>\n",
              "    <tr>\n",
              "      <th>chrysler</th>\n",
              "      <td>0.512224</td>\n",
              "      <td>0.375038</td>\n",
              "      <td>0.265055</td>\n",
              "      <td>0.440300</td>\n",
              "      <td>2.797200</td>\n",
              "      <td>0.296000</td>\n",
              "      <td>0.404040</td>\n",
              "      <td>2.000000</td>\n",
              "      <td>0.000000</td>\n",
              "      <td>0.46620</td>\n",
              "    </tr>\n",
              "    <tr>\n",
              "      <th>subaru</th>\n",
              "      <td>0.756800</td>\n",
              "      <td>0.952800</td>\n",
              "      <td>0.472800</td>\n",
              "      <td>0.799680</td>\n",
              "      <td>0.352800</td>\n",
              "      <td>0.403200</td>\n",
              "      <td>0.509600</td>\n",
              "      <td>2.000000</td>\n",
              "      <td>0.466200</td>\n",
              "      <td>0.00000</td>\n",
              "    </tr>\n",
              "  </tbody>\n",
              "</table>\n",
              "</div>"
            ],
            "text/plain": [
              "0             honda      ford    toyota  ...  chevrolet  chrysler   subaru\n",
              "0                                        ...                              \n",
              "honda      0.000000  0.613162  0.273058  ...   0.520300  0.512224  0.75680\n",
              "ford       0.613162  0.000000  0.428542  ...   0.436700  0.375038  0.95280\n",
              "toyota     0.273058  0.428542  0.000000  ...   0.288933  0.265055  0.47280\n",
              "hyundai    0.494831  0.555800  0.317871  ...   2.000000  0.440300  0.79968\n",
              "mazda      1.045579  0.763695  1.182000  ...   0.693000  2.797200  0.35280\n",
              "nissan     0.432457  0.544457  0.227855  ...   2.000000  0.296000  0.40320\n",
              "saturn     0.688688  0.963387  0.478053  ...   2.000000  0.404040  0.50960\n",
              "chevrolet  0.520300  0.436700  0.288933  ...   0.000000  2.000000  2.00000\n",
              "chrysler   0.512224  0.375038  0.265055  ...   2.000000  0.000000  0.46620\n",
              "subaru     0.756800  0.952800  0.472800  ...   2.000000  0.466200  0.00000\n",
              "\n",
              "[10 rows x 10 columns]"
            ]
          },
          "metadata": {
            "tags": []
          },
          "execution_count": 80
        }
      ]
    },
    {
      "cell_type": "code",
      "metadata": {
        "id": "FVaOu1A4HHEV",
        "colab_type": "code",
        "colab": {
          "base_uri": "https://localhost:8080/",
          "height": 302
        },
        "outputId": "af6784c9-11d9-4e2f-80c2-c5cd5b18725b"
      },
      "source": [
        "import matplotlib.pyplot as plt\n",
        "# Plotting MDS plot\n",
        "from sklearn import manifold\n",
        "seed = np.random.RandomState(seed=10)\n",
        "mds = manifold.MDS(n_components=2, max_iter=3000, eps=1e-9, \n",
        "      random_state=seed, dissimilarity=\"precomputed\", n_jobs=1)\n",
        "results = mds.fit(plot_dis)\n",
        "coords = results.embedding_\n",
        "\n",
        "plt.subplots_adjust(bottom = 0.1)\n",
        "plt.scatter(\n",
        "    coords[:, 0], coords[:, 1], marker = 'o'\n",
        "    )\n",
        "for label, x, y in zip(top_brands, coords[:, 0], coords[:, 1]):\n",
        "    \n",
        "    plt.annotate(\n",
        "        label,\n",
        "        xy = (x, y), xytext = (-30, 30),\n",
        "        textcoords = 'offset points', ha = 'right', va = 'bottom',\n",
        "        bbox = dict(boxstyle = 'round,pad=0.5', fc = 'yellow', alpha = 0.5),\n",
        "        arrowprops = dict(arrowstyle = '->', connectionstyle = 'arc3,rad=0'))\n",
        "\n",
        "plt.show()"
      ],
      "execution_count": null,
      "outputs": [
        {
          "output_type": "display_data",
          "data": {
            "image/png": "[encoded data removed]",
            "text/plain": [
              "<Figure size 432x288 with 1 Axes>"
            ]
          },
          "metadata": {
            "tags": [],
            "needs_background": "light"
          }
        }
      ]
    },
    {
      "cell_type": "markdown",
      "metadata": {
        "id": "GqT-HV4HfvPp",
        "colab_type": "text"
      },
      "source": [
        "# Task B:"
      ]
    },
    {
      "cell_type": "markdown",
      "metadata": {
        "id": "3lBQxKDAfv4_",
        "colab_type": "text"
      },
      "source": [
        "Honda and Toyota were the brands that were co-mentioned with a lift value of more than 1 which is 3.662227 and they are closely distributed in the MDS plot. They are both categorized as non-luxurious brands and known as the competitors in the car market.\n",
        "\n",
        "Honda is famous for its safety and reliability. In the 2020 Top Safety Picks, Honda won five top safety pickups and one top safety +, however, Toyota also got four safety pickups and Nissan got one top safety + and one safety pickups. As those brands are co-mentioned frequently, in order to keep customers and increase market share on non-luxurious brands, Honda should do more research on safety improvements to keep their advantage. \n",
        "\n",
        "Even though the majority of the people recognize Toyota to be mostly associated with Honda, the team was also able to observe a high association with Nissan, Chevrolet, Chrysler, etc. as well. Additionally, Honda is also associated with Hyundai and Nissan which has a high lift value that is more than 2. Therefore, it is significant to not only focus on Honda (Toyota) but also on the other brands that show high lift values as they are being co-mentioned as much as Toyota (Honda).\n"
      ]
    },
    {
      "cell_type": "markdown",
      "metadata": {
        "id": "izb93plTfwiv",
        "colab_type": "text"
      },
      "source": [
        "# Task C:"
      ]
    },
    {
      "cell_type": "code",
      "metadata": {
        "id": "JnTQPKnMjli_",
        "colab_type": "code",
        "colab": {
          "base_uri": "https://localhost:8080/",
          "height": 372
        },
        "outputId": "0d2201e6-3eea-4fa9-a97e-6266fdc14b0b"
      },
      "source": [
        "word_freq_list[0:20] #engine #miles #price #looks #power #are the top five attributes we pick descending in this order"
      ],
      "execution_count": null,
      "outputs": [
        {
          "output_type": "execute_result",
          "data": {
            "text/plain": [
              "['car',\n",
              " 'honda',\n",
              " 'ford',\n",
              " 'like',\n",
              " 'would',\n",
              " 'one',\n",
              " 'think',\n",
              " 'toyota',\n",
              " 'get',\n",
              " 'good',\n",
              " 'new',\n",
              " 'much',\n",
              " 'even',\n",
              " 'better',\n",
              " 'well',\n",
              " 'also',\n",
              " 'years',\n",
              " 'time',\n",
              " 'see',\n",
              " 'hyundai']"
            ]
          },
          "metadata": {
            "tags": []
          },
          "execution_count": 84
        }
      ]
    },
    {
      "cell_type": "code",
      "metadata": {
        "id": "r7ihOSz4opIc",
        "colab_type": "code",
        "colab": {
          "base_uri": "https://localhost:8080/",
          "height": 123
        },
        "outputId": "359d323c-fa30-4d00-f56a-e5f869cb96c7"
      },
      "source": [
        "top_brands= top_list[0][0:5] #change\n",
        "top_brands"
      ],
      "execution_count": null,
      "outputs": [
        {
          "output_type": "execute_result",
          "data": {
            "text/plain": [
              "0      honda\n",
              "1       ford\n",
              "2     toyota\n",
              "3    hyundai\n",
              "4      mazda\n",
              "Name: 0, dtype: object"
            ]
          },
          "metadata": {
            "tags": []
          },
          "execution_count": 89
        }
      ]
    },
    {
      "cell_type": "code",
      "metadata": {
        "id": "mC0BRZ8Co2Mz",
        "colab_type": "code",
        "colab": {
          "base_uri": "https://localhost:8080/",
          "height": 34
        },
        "outputId": "40d069b9-dc40-4637-8b2a-207b426ec259"
      },
      "source": [
        "attri = [\"engine\", \"miles\", \"price\", \"looks\",\"power\"]\n",
        "attri"
      ],
      "execution_count": null,
      "outputs": [
        {
          "output_type": "execute_result",
          "data": {
            "text/plain": [
              "['engine', 'miles', 'price', 'looks', 'power']"
            ]
          },
          "metadata": {
            "tags": []
          },
          "execution_count": 91
        }
      ]
    },
    {
      "cell_type": "code",
      "metadata": {
        "id": "nEo0dQLHnN31",
        "colab_type": "code",
        "colab": {
          "base_uri": "https://localhost:8080/",
          "height": 227
        },
        "outputId": "bc69ee9d-0a00-4668-dcaf-6cba48518ac7"
      },
      "source": [
        "a = numpy.zeros(shape=(5,5))\n",
        "df_counts = pd.DataFrame(a, columns = attri, index=top_brands)\n",
        "\n",
        "for i in range (len(top_brands)):\n",
        "  for j in range (len(attri)):\n",
        "      for k in range(len(df['comments'])):\n",
        "        if top_brands[i] in df['comments'][k] and attri[j] in df['comments'][k] :\n",
        "          df_counts.iloc[i,j] += 1\n",
        "\n",
        "df_counts"
      ],
      "execution_count": null,
      "outputs": [
        {
          "output_type": "execute_result",
          "data": {
            "text/html": [
              "<div>\n",
              "<style scoped>\n",
              "    .dataframe tbody tr th:only-of-type {\n",
              "        vertical-align: middle;\n",
              "    }\n",
              "\n",
              "    .dataframe tbody tr th {\n",
              "        vertical-align: top;\n",
              "    }\n",
              "\n",
              "    .dataframe thead th {\n",
              "        text-align: right;\n",
              "    }\n",
              "</style>\n",
              "<table border=\"1\" class=\"dataframe\">\n",
              "  <thead>\n",
              "    <tr style=\"text-align: right;\">\n",
              "      <th></th>\n",
              "      <th>engine</th>\n",
              "      <th>miles</th>\n",
              "      <th>price</th>\n",
              "      <th>looks</th>\n",
              "      <th>power</th>\n",
              "    </tr>\n",
              "    <tr>\n",
              "      <th>0</th>\n",
              "      <th></th>\n",
              "      <th></th>\n",
              "      <th></th>\n",
              "      <th></th>\n",
              "      <th></th>\n",
              "    </tr>\n",
              "  </thead>\n",
              "  <tbody>\n",
              "    <tr>\n",
              "      <th>honda</th>\n",
              "      <td>161.0</td>\n",
              "      <td>122.0</td>\n",
              "      <td>168.0</td>\n",
              "      <td>59.0</td>\n",
              "      <td>119.0</td>\n",
              "    </tr>\n",
              "    <tr>\n",
              "      <th>ford</th>\n",
              "      <td>195.0</td>\n",
              "      <td>89.0</td>\n",
              "      <td>106.0</td>\n",
              "      <td>52.0</td>\n",
              "      <td>116.0</td>\n",
              "    </tr>\n",
              "    <tr>\n",
              "      <th>toyota</th>\n",
              "      <td>79.0</td>\n",
              "      <td>44.0</td>\n",
              "      <td>68.0</td>\n",
              "      <td>23.0</td>\n",
              "      <td>57.0</td>\n",
              "    </tr>\n",
              "    <tr>\n",
              "      <th>hyundai</th>\n",
              "      <td>40.0</td>\n",
              "      <td>26.0</td>\n",
              "      <td>34.0</td>\n",
              "      <td>20.0</td>\n",
              "      <td>28.0</td>\n",
              "    </tr>\n",
              "    <tr>\n",
              "      <th>mazda</th>\n",
              "      <td>103.0</td>\n",
              "      <td>65.0</td>\n",
              "      <td>120.0</td>\n",
              "      <td>59.0</td>\n",
              "      <td>110.0</td>\n",
              "    </tr>\n",
              "  </tbody>\n",
              "</table>\n",
              "</div>"
            ],
            "text/plain": [
              "         engine  miles  price  looks  power\n",
              "0                                          \n",
              "honda     161.0  122.0  168.0   59.0  119.0\n",
              "ford      195.0   89.0  106.0   52.0  116.0\n",
              "toyota     79.0   44.0   68.0   23.0   57.0\n",
              "hyundai    40.0   26.0   34.0   20.0   28.0\n",
              "mazda     103.0   65.0  120.0   59.0  110.0"
            ]
          },
          "metadata": {
            "tags": []
          },
          "execution_count": 92
        }
      ]
    },
    {
      "cell_type": "code",
      "metadata": {
        "id": "-dZeKT_YpzYk",
        "colab_type": "code",
        "colab": {}
      },
      "source": [
        "df_lift = df_counts.copy()"
      ],
      "execution_count": null,
      "outputs": []
    },
    {
      "cell_type": "code",
      "metadata": {
        "id": "onqDeI-Jp06J",
        "colab_type": "code",
        "colab": {}
      },
      "source": [
        "N = len(df[\"comments\"])\n",
        "for i in range (len(top_brands)):\n",
        "  for j in range (len(top_brands)):\n",
        "      df_lift.iloc[i,j] = N * (df_counts.iloc[i,j]) / (final_dict[df_counts.index[i]] * final_dict[df_counts.columns[j]] )"
      ],
      "execution_count": null,
      "outputs": []
    },
    {
      "cell_type": "code",
      "metadata": {
        "id": "6T-oFJmDrsnM",
        "colab_type": "code",
        "colab": {
          "base_uri": "https://localhost:8080/",
          "height": 227
        },
        "outputId": "b29348f3-a092-43ac-804e-27b7e5582457"
      },
      "source": [
        "df_lift #lift table for attributes and "
      ],
      "execution_count": null,
      "outputs": [
        {
          "output_type": "execute_result",
          "data": {
            "text/html": [
              "<div>\n",
              "<style scoped>\n",
              "    .dataframe tbody tr th:only-of-type {\n",
              "        vertical-align: middle;\n",
              "    }\n",
              "\n",
              "    .dataframe tbody tr th {\n",
              "        vertical-align: top;\n",
              "    }\n",
              "\n",
              "    .dataframe thead th {\n",
              "        text-align: right;\n",
              "    }\n",
              "</style>\n",
              "<table border=\"1\" class=\"dataframe\">\n",
              "  <thead>\n",
              "    <tr style=\"text-align: right;\">\n",
              "      <th></th>\n",
              "      <th>engine</th>\n",
              "      <th>miles</th>\n",
              "      <th>price</th>\n",
              "      <th>looks</th>\n",
              "      <th>power</th>\n",
              "    </tr>\n",
              "    <tr>\n",
              "      <th>0</th>\n",
              "      <th></th>\n",
              "      <th></th>\n",
              "      <th></th>\n",
              "      <th></th>\n",
              "      <th></th>\n",
              "    </tr>\n",
              "  </thead>\n",
              "  <tbody>\n",
              "    <tr>\n",
              "      <th>honda</th>\n",
              "      <td>0.710796</td>\n",
              "      <td>0.612789</td>\n",
              "      <td>0.939370</td>\n",
              "      <td>0.434400</td>\n",
              "      <td>0.779349</td>\n",
              "    </tr>\n",
              "    <tr>\n",
              "      <th>ford</th>\n",
              "      <td>1.304341</td>\n",
              "      <td>0.677296</td>\n",
              "      <td>0.897989</td>\n",
              "      <td>0.580067</td>\n",
              "      <td>1.151013</td>\n",
              "    </tr>\n",
              "    <tr>\n",
              "      <th>toyota</th>\n",
              "      <td>0.731908</td>\n",
              "      <td>0.463783</td>\n",
              "      <td>0.797897</td>\n",
              "      <td>0.355366</td>\n",
              "      <td>0.783376</td>\n",
              "    </tr>\n",
              "    <tr>\n",
              "      <th>hyundai</th>\n",
              "      <td>0.595903</td>\n",
              "      <td>0.440678</td>\n",
              "      <td>0.641509</td>\n",
              "      <td>0.496894</td>\n",
              "      <td>0.618785</td>\n",
              "    </tr>\n",
              "    <tr>\n",
              "      <th>mazda</th>\n",
              "      <td>1.585176</td>\n",
              "      <td>1.138115</td>\n",
              "      <td>2.338999</td>\n",
              "      <td>1.514296</td>\n",
              "      <td>2.511301</td>\n",
              "    </tr>\n",
              "  </tbody>\n",
              "</table>\n",
              "</div>"
            ],
            "text/plain": [
              "           engine     miles     price     looks     power\n",
              "0                                                        \n",
              "honda    0.710796  0.612789  0.939370  0.434400  0.779349\n",
              "ford     1.304341  0.677296  0.897989  0.580067  1.151013\n",
              "toyota   0.731908  0.463783  0.797897  0.355366  0.783376\n",
              "hyundai  0.595903  0.440678  0.641509  0.496894  0.618785\n",
              "mazda    1.585176  1.138115  2.338999  1.514296  2.511301"
            ]
          },
          "metadata": {
            "tags": []
          },
          "execution_count": 98
        }
      ]
    },
    {
      "cell_type": "markdown",
      "metadata": {
        "id": "NcvdGClZyPo_",
        "colab_type": "text"
      },
      "source": [
        "Mazda had the highest associations with all 5 attributes"
      ]
    },
    {
      "cell_type": "markdown",
      "metadata": {
        "id": "khasQK-ofxB5",
        "colab_type": "text"
      },
      "source": [
        "# Task D:"
      ]
    },
    {
      "cell_type": "markdown",
      "metadata": {
        "id": "7F4ekUNLt3QY",
        "colab_type": "text"
      },
      "source": [
        "Assumption: all attributes counted implies positive sentiment\n",
        "\n",
        "i) Product Manager\n",
        "\n",
        "\n",
        "*   Honda: The lift value of ‘engine’ is less than 1 which means that it is not co-mentioned as much as other brands. It could be losing to Toyota on ‘engine’ and ‘power’. It should invest in improving its ‘engine’ and ‘power’ which customers care about and try to improve ‘looks’. Additionally, Honda should conduct more research on mpg improvement by learning from other manufacturers like Mazda or Ford which has a lift value more than 1. And honda is usually associated with non-luxurious brands, if the company has a lower budget, it could enhance the image of cost effectiveness to attract new customers.\n",
        "*   Ford:  Ford is doing great on ‘engine’ and ‘power’ with lift values of more than 1. From a product manager’s perspective, the group could consider improvements on ‘miles’ which will result in a synergistic effect on having a high fuel efficiency on top of sufficient engine and power capacities.\n",
        "*   Toyota: Toyota has low lift values associated with ‘looks’ and ‘miles’. A good appearance is easier to attract young people and improve sales. The group recommends that it should have a design team to make some changes in their new products according to the preference of customers. Also, improving the mileage of their products will lead to more co-mention in a more positive way.\n",
        "*   Hyundai: In terms of product development, Hyundai can focus on attributes that are lower than 1, such as having better fuel efficiency and enhancing the power of the motor. The five attributes all have lower lift values. The group recommends that the product managers conduct research on the brand’s loyal customers to find out which characteristics attract these customers the most attention and first strengthen these characteristics.\n",
        "*   Mazda: Mazda has a strong relationship with ‘power’ with a high lift value of 2.55. Mazda is known for its technical paranoia in the automotive industry. This is the strength of Mazda and it should continue to fully focus on ‘engine’ research and development which customers mention frequently.\n",
        "\n",
        "\n",
        "ii) Marketing/advertising manager\n",
        "*   Honda: with a lift value of 0.43 for the term ‘looks’ it seems people don’t seem to associate ‘looks’ with Honda. So, the group would recommend advertisements showing off Honda cars in a good light and appeal to the taste of the target audience.\n",
        "*   Ford: with a lift value of 1.3 for the term ‘engine’, the group would recommend marketing the engine to potential customers as there is a positive association between the two and they should take advantage of this.\n",
        "*   Toyota: has very low lift value associated with ‘looks’ and ‘miles’ so the group would recommend advertising more about the high mpg of Toyota cars as well as consider a redesign of some models that aren’t as successful with their target audience.\n",
        "*   Hyundai: relative to how they are faring for the other terms, Hyundai is doing decently well with the term ‘price’ so the group recommends having the advertising team focus on the low price and good value associated with Hyundai. Hyundai could improve in most attributes so they should decide which they value the most in their brand and focus on that.\n",
        "*   Mazda: with respect to the attributes above, Mazda is doing well for most attributes but the group would recommend investing in the image of their cars as the term ‘looks’ is relatively less associated with Mazda than other terms.\n",
        "\n"
      ]
    },
    {
      "cell_type": "markdown",
      "metadata": {
        "id": "Vh6L4YF0t69q",
        "colab_type": "text"
      },
      "source": [
        "##Task E:"
      ]
    },
    {
      "cell_type": "code",
      "metadata": {
        "id": "ssLqgdYjuJ_M",
        "colab_type": "code",
        "colab": {}
      },
      "source": [
        "#assume the sentiment is positive\n",
        "#word_freq_list\n",
        "#like\n",
        "#good\n",
        "#better\n",
        "#best\n",
        "#great\n",
        "#nice\n",
        "#top\n",
        "#certainly\n",
        "#fun\n",
        "#interesting \n",
        "#are the top ten words we chose"
      ],
      "execution_count": null,
      "outputs": []
    },
    {
      "cell_type": "code",
      "metadata": {
        "id": "w7ovm_dgyseb",
        "colab_type": "code",
        "colab": {
          "base_uri": "https://localhost:8080/",
          "height": 194
        },
        "outputId": "2db376f3-316e-4122-d854-e093447c0fda"
      },
      "source": [
        "want = [\"like\", \"good\", \"better\", \"best\",\"great\",\"nice\",\"top\",\"certainly\",\"fun\",\"interesting\"]\n",
        "want"
      ],
      "execution_count": null,
      "outputs": [
        {
          "output_type": "execute_result",
          "data": {
            "text/plain": [
              "['like',\n",
              " 'good',\n",
              " 'better',\n",
              " 'best',\n",
              " 'great',\n",
              " 'nice',\n",
              " 'top',\n",
              " 'certainly',\n",
              " 'fun',\n",
              " 'interesting']"
            ]
          },
          "metadata": {
            "tags": []
          },
          "execution_count": 105
        }
      ]
    },
    {
      "cell_type": "code",
      "metadata": {
        "colab_type": "code",
        "id": "xmxCmV8ey0Qa",
        "colab": {
          "base_uri": "https://localhost:8080/",
          "height": 212
        },
        "outputId": "f1ada823-d134-4076-87ec-031a1133726f"
      },
      "source": [
        "top_brands= top_list[0][0:10] #change\n",
        "top_brands"
      ],
      "execution_count": null,
      "outputs": [
        {
          "output_type": "execute_result",
          "data": {
            "text/plain": [
              "0        honda\n",
              "1         ford\n",
              "2       toyota\n",
              "3      hyundai\n",
              "4        mazda\n",
              "5       nissan\n",
              "6       saturn\n",
              "7    chevrolet\n",
              "8     chrysler\n",
              "9       subaru\n",
              "Name: 0, dtype: object"
            ]
          },
          "metadata": {
            "tags": []
          },
          "execution_count": 106
        }
      ]
    },
    {
      "cell_type": "code",
      "metadata": {
        "id": "oXrDTWRyzN-L",
        "colab_type": "code",
        "colab": {
          "base_uri": "https://localhost:8080/",
          "height": 377
        },
        "outputId": "c1de1119-9ce4-4d0c-a1bd-3a1fe0baf72b"
      },
      "source": [
        "a = numpy.zeros(shape=(10,10))\n",
        "df_counts = pd.DataFrame(a, columns = want, index=top_brands)\n",
        "\n",
        "for i in range (len(top_brands)):\n",
        "  for j in range (len(want)):\n",
        "      for k in range(len(df['comments'])):\n",
        "        if top_brands[i] in df['comments'][k] and want[j] in df['comments'][k] :\n",
        "          df_counts.iloc[i,j] += 1\n",
        "\n",
        "df_counts"
      ],
      "execution_count": null,
      "outputs": [
        {
          "output_type": "execute_result",
          "data": {
            "text/html": [
              "<div>\n",
              "<style scoped>\n",
              "    .dataframe tbody tr th:only-of-type {\n",
              "        vertical-align: middle;\n",
              "    }\n",
              "\n",
              "    .dataframe tbody tr th {\n",
              "        vertical-align: top;\n",
              "    }\n",
              "\n",
              "    .dataframe thead th {\n",
              "        text-align: right;\n",
              "    }\n",
              "</style>\n",
              "<table border=\"1\" class=\"dataframe\">\n",
              "  <thead>\n",
              "    <tr style=\"text-align: right;\">\n",
              "      <th></th>\n",
              "      <th>like</th>\n",
              "      <th>good</th>\n",
              "      <th>better</th>\n",
              "      <th>best</th>\n",
              "      <th>great</th>\n",
              "      <th>nice</th>\n",
              "      <th>top</th>\n",
              "      <th>certainly</th>\n",
              "      <th>fun</th>\n",
              "      <th>interesting</th>\n",
              "    </tr>\n",
              "    <tr>\n",
              "      <th>0</th>\n",
              "      <th></th>\n",
              "      <th></th>\n",
              "      <th></th>\n",
              "      <th></th>\n",
              "      <th></th>\n",
              "      <th></th>\n",
              "      <th></th>\n",
              "      <th></th>\n",
              "      <th></th>\n",
              "      <th></th>\n",
              "    </tr>\n",
              "  </thead>\n",
              "  <tbody>\n",
              "    <tr>\n",
              "      <th>honda</th>\n",
              "      <td>393.0</td>\n",
              "      <td>233.0</td>\n",
              "      <td>180.0</td>\n",
              "      <td>117.0</td>\n",
              "      <td>126.0</td>\n",
              "      <td>51.0</td>\n",
              "      <td>110.0</td>\n",
              "      <td>48.0</td>\n",
              "      <td>65.0</td>\n",
              "      <td>38.0</td>\n",
              "    </tr>\n",
              "    <tr>\n",
              "      <th>ford</th>\n",
              "      <td>294.0</td>\n",
              "      <td>192.0</td>\n",
              "      <td>167.0</td>\n",
              "      <td>81.0</td>\n",
              "      <td>81.0</td>\n",
              "      <td>57.0</td>\n",
              "      <td>96.0</td>\n",
              "      <td>52.0</td>\n",
              "      <td>64.0</td>\n",
              "      <td>31.0</td>\n",
              "    </tr>\n",
              "    <tr>\n",
              "      <th>toyota</th>\n",
              "      <td>154.0</td>\n",
              "      <td>94.0</td>\n",
              "      <td>83.0</td>\n",
              "      <td>62.0</td>\n",
              "      <td>42.0</td>\n",
              "      <td>16.0</td>\n",
              "      <td>44.0</td>\n",
              "      <td>24.0</td>\n",
              "      <td>16.0</td>\n",
              "      <td>17.0</td>\n",
              "    </tr>\n",
              "    <tr>\n",
              "      <th>hyundai</th>\n",
              "      <td>100.0</td>\n",
              "      <td>72.0</td>\n",
              "      <td>40.0</td>\n",
              "      <td>21.0</td>\n",
              "      <td>26.0</td>\n",
              "      <td>12.0</td>\n",
              "      <td>27.0</td>\n",
              "      <td>8.0</td>\n",
              "      <td>12.0</td>\n",
              "      <td>19.0</td>\n",
              "    </tr>\n",
              "    <tr>\n",
              "      <th>mazda</th>\n",
              "      <td>281.0</td>\n",
              "      <td>150.0</td>\n",
              "      <td>150.0</td>\n",
              "      <td>72.0</td>\n",
              "      <td>98.0</td>\n",
              "      <td>63.0</td>\n",
              "      <td>71.0</td>\n",
              "      <td>27.0</td>\n",
              "      <td>59.0</td>\n",
              "      <td>20.0</td>\n",
              "    </tr>\n",
              "    <tr>\n",
              "      <th>nissan</th>\n",
              "      <td>102.0</td>\n",
              "      <td>63.0</td>\n",
              "      <td>53.0</td>\n",
              "      <td>44.0</td>\n",
              "      <td>30.0</td>\n",
              "      <td>19.0</td>\n",
              "      <td>27.0</td>\n",
              "      <td>8.0</td>\n",
              "      <td>17.0</td>\n",
              "      <td>15.0</td>\n",
              "    </tr>\n",
              "    <tr>\n",
              "      <th>saturn</th>\n",
              "      <td>41.0</td>\n",
              "      <td>31.0</td>\n",
              "      <td>25.0</td>\n",
              "      <td>9.0</td>\n",
              "      <td>11.0</td>\n",
              "      <td>10.0</td>\n",
              "      <td>6.0</td>\n",
              "      <td>7.0</td>\n",
              "      <td>6.0</td>\n",
              "      <td>7.0</td>\n",
              "    </tr>\n",
              "    <tr>\n",
              "      <th>chevrolet</th>\n",
              "      <td>8.0</td>\n",
              "      <td>1.0</td>\n",
              "      <td>0.0</td>\n",
              "      <td>5.0</td>\n",
              "      <td>2.0</td>\n",
              "      <td>3.0</td>\n",
              "      <td>6.0</td>\n",
              "      <td>0.0</td>\n",
              "      <td>0.0</td>\n",
              "      <td>0.0</td>\n",
              "    </tr>\n",
              "    <tr>\n",
              "      <th>chrysler</th>\n",
              "      <td>45.0</td>\n",
              "      <td>28.0</td>\n",
              "      <td>23.0</td>\n",
              "      <td>13.0</td>\n",
              "      <td>17.0</td>\n",
              "      <td>4.0</td>\n",
              "      <td>11.0</td>\n",
              "      <td>2.0</td>\n",
              "      <td>6.0</td>\n",
              "      <td>5.0</td>\n",
              "    </tr>\n",
              "    <tr>\n",
              "      <th>subaru</th>\n",
              "      <td>48.0</td>\n",
              "      <td>30.0</td>\n",
              "      <td>20.0</td>\n",
              "      <td>13.0</td>\n",
              "      <td>14.0</td>\n",
              "      <td>7.0</td>\n",
              "      <td>8.0</td>\n",
              "      <td>1.0</td>\n",
              "      <td>11.0</td>\n",
              "      <td>3.0</td>\n",
              "    </tr>\n",
              "  </tbody>\n",
              "</table>\n",
              "</div>"
            ],
            "text/plain": [
              "            like   good  better   best  ...    top  certainly   fun  interesting\n",
              "0                                       ...                                     \n",
              "honda      393.0  233.0   180.0  117.0  ...  110.0       48.0  65.0         38.0\n",
              "ford       294.0  192.0   167.0   81.0  ...   96.0       52.0  64.0         31.0\n",
              "toyota     154.0   94.0    83.0   62.0  ...   44.0       24.0  16.0         17.0\n",
              "hyundai    100.0   72.0    40.0   21.0  ...   27.0        8.0  12.0         19.0\n",
              "mazda      281.0  150.0   150.0   72.0  ...   71.0       27.0  59.0         20.0\n",
              "nissan     102.0   63.0    53.0   44.0  ...   27.0        8.0  17.0         15.0\n",
              "saturn      41.0   31.0    25.0    9.0  ...    6.0        7.0   6.0          7.0\n",
              "chevrolet    8.0    1.0     0.0    5.0  ...    6.0        0.0   0.0          0.0\n",
              "chrysler    45.0   28.0    23.0   13.0  ...   11.0        2.0   6.0          5.0\n",
              "subaru      48.0   30.0    20.0   13.0  ...    8.0        1.0  11.0          3.0\n",
              "\n",
              "[10 rows x 10 columns]"
            ]
          },
          "metadata": {
            "tags": []
          },
          "execution_count": 107
        }
      ]
    },
    {
      "cell_type": "code",
      "metadata": {
        "id": "YvGlGkIAzOlO",
        "colab_type": "code",
        "colab": {}
      },
      "source": [
        "df_lift = df_counts.copy()"
      ],
      "execution_count": null,
      "outputs": []
    },
    {
      "cell_type": "code",
      "metadata": {
        "id": "wxMu83YbzO5H",
        "colab_type": "code",
        "colab": {}
      },
      "source": [
        "N = len(df[\"comments\"])\n",
        "for i in range (len(top_brands)):\n",
        "  for j in range (len(top_brands)):\n",
        "      df_lift.iloc[i,j] = N * (df_counts.iloc[i,j]) / (final_dict[df_counts.index[i]] * final_dict[df_counts.columns[j]] )"
      ],
      "execution_count": null,
      "outputs": []
    },
    {
      "cell_type": "code",
      "metadata": {
        "id": "wu7t3MG9zlKO",
        "colab_type": "code",
        "colab": {
          "base_uri": "https://localhost:8080/",
          "height": 377
        },
        "outputId": "ce8e55e7-2fcc-495d-e7e9-a3440bdfe8e5"
      },
      "source": [
        "df_lift #lift table for want/love words"
      ],
      "execution_count": null,
      "outputs": [
        {
          "output_type": "execute_result",
          "data": {
            "text/html": [
              "<div>\n",
              "<style scoped>\n",
              "    .dataframe tbody tr th:only-of-type {\n",
              "        vertical-align: middle;\n",
              "    }\n",
              "\n",
              "    .dataframe tbody tr th {\n",
              "        vertical-align: top;\n",
              "    }\n",
              "\n",
              "    .dataframe thead th {\n",
              "        text-align: right;\n",
              "    }\n",
              "</style>\n",
              "<table border=\"1\" class=\"dataframe\">\n",
              "  <thead>\n",
              "    <tr style=\"text-align: right;\">\n",
              "      <th></th>\n",
              "      <th>like</th>\n",
              "      <th>good</th>\n",
              "      <th>better</th>\n",
              "      <th>best</th>\n",
              "      <th>great</th>\n",
              "      <th>nice</th>\n",
              "      <th>top</th>\n",
              "      <th>certainly</th>\n",
              "      <th>fun</th>\n",
              "      <th>interesting</th>\n",
              "    </tr>\n",
              "    <tr>\n",
              "      <th>0</th>\n",
              "      <th></th>\n",
              "      <th></th>\n",
              "      <th></th>\n",
              "      <th></th>\n",
              "      <th></th>\n",
              "      <th></th>\n",
              "      <th></th>\n",
              "      <th></th>\n",
              "      <th></th>\n",
              "      <th></th>\n",
              "    </tr>\n",
              "  </thead>\n",
              "  <tbody>\n",
              "    <tr>\n",
              "      <th>honda</th>\n",
              "      <td>0.673209</td>\n",
              "      <td>0.612411</td>\n",
              "      <td>0.562985</td>\n",
              "      <td>0.696941</td>\n",
              "      <td>0.779947</td>\n",
              "      <td>0.493512</td>\n",
              "      <td>1.317107</td>\n",
              "      <td>0.665485</td>\n",
              "      <td>1.055490</td>\n",
              "      <td>0.709371</td>\n",
              "    </tr>\n",
              "    <tr>\n",
              "      <th>ford</th>\n",
              "      <td>0.763031</td>\n",
              "      <td>0.764584</td>\n",
              "      <td>0.791367</td>\n",
              "      <td>0.731026</td>\n",
              "      <td>0.759656</td>\n",
              "      <td>0.835679</td>\n",
              "      <td>1.741553</td>\n",
              "      <td>1.092290</td>\n",
              "      <td>1.574555</td>\n",
              "      <td>0.876776</td>\n",
              "    </tr>\n",
              "    <tr>\n",
              "      <th>toyota</th>\n",
              "      <td>0.553590</td>\n",
              "      <td>0.518472</td>\n",
              "      <td>0.544770</td>\n",
              "      <td>0.775019</td>\n",
              "      <td>0.545575</td>\n",
              "      <td>0.324906</td>\n",
              "      <td>1.105583</td>\n",
              "      <td>0.698263</td>\n",
              "      <td>0.545219</td>\n",
              "      <td>0.665962</td>\n",
              "    </tr>\n",
              "    <tr>\n",
              "      <th>hyundai</th>\n",
              "      <td>0.578035</td>\n",
              "      <td>0.638581</td>\n",
              "      <td>0.422164</td>\n",
              "      <td>0.422111</td>\n",
              "      <td>0.543081</td>\n",
              "      <td>0.391837</td>\n",
              "      <td>1.090909</td>\n",
              "      <td>0.374269</td>\n",
              "      <td>0.657534</td>\n",
              "      <td>1.196850</td>\n",
              "    </tr>\n",
              "    <tr>\n",
              "      <th>mazda</th>\n",
              "      <td>1.677973</td>\n",
              "      <td>1.374356</td>\n",
              "      <td>1.635448</td>\n",
              "      <td>1.495079</td>\n",
              "      <td>2.114667</td>\n",
              "      <td>2.125148</td>\n",
              "      <td>2.963519</td>\n",
              "      <td>1.304915</td>\n",
              "      <td>3.339749</td>\n",
              "      <td>1.301490</td>\n",
              "    </tr>\n",
              "    <tr>\n",
              "      <th>nissan</th>\n",
              "      <td>0.610095</td>\n",
              "      <td>0.578185</td>\n",
              "      <td>0.578815</td>\n",
              "      <td>0.915172</td>\n",
              "      <td>0.648419</td>\n",
              "      <td>0.641979</td>\n",
              "      <td>1.128838</td>\n",
              "      <td>0.387282</td>\n",
              "      <td>0.963894</td>\n",
              "      <td>0.977734</td>\n",
              "    </tr>\n",
              "    <tr>\n",
              "      <th>saturn</th>\n",
              "      <td>0.574114</td>\n",
              "      <td>0.666048</td>\n",
              "      <td>0.639177</td>\n",
              "      <td>0.438238</td>\n",
              "      <td>0.556601</td>\n",
              "      <td>0.791014</td>\n",
              "      <td>0.587268</td>\n",
              "      <td>0.793327</td>\n",
              "      <td>0.796432</td>\n",
              "      <td>1.068180</td>\n",
              "    </tr>\n",
              "    <tr>\n",
              "      <th>chevrolet</th>\n",
              "      <td>0.115146</td>\n",
              "      <td>0.022085</td>\n",
              "      <td>0.000000</td>\n",
              "      <td>0.250255</td>\n",
              "      <td>0.104023</td>\n",
              "      <td>0.243922</td>\n",
              "      <td>0.603646</td>\n",
              "      <td>0.000000</td>\n",
              "      <td>0.000000</td>\n",
              "      <td>0.000000</td>\n",
              "    </tr>\n",
              "    <tr>\n",
              "      <th>chrysler</th>\n",
              "      <td>0.697735</td>\n",
              "      <td>0.666140</td>\n",
              "      <td>0.651138</td>\n",
              "      <td>0.700930</td>\n",
              "      <td>0.952498</td>\n",
              "      <td>0.350355</td>\n",
              "      <td>1.192179</td>\n",
              "      <td>0.250985</td>\n",
              "      <td>0.881886</td>\n",
              "      <td>0.844851</td>\n",
              "    </tr>\n",
              "    <tr>\n",
              "      <th>subaru</th>\n",
              "      <td>1.038386</td>\n",
              "      <td>0.995791</td>\n",
              "      <td>0.789977</td>\n",
              "      <td>0.977944</td>\n",
              "      <td>1.094417</td>\n",
              "      <td>0.855432</td>\n",
              "      <td>1.209702</td>\n",
              "      <td>0.175088</td>\n",
              "      <td>2.255762</td>\n",
              "      <td>0.707247</td>\n",
              "    </tr>\n",
              "  </tbody>\n",
              "</table>\n",
              "</div>"
            ],
            "text/plain": [
              "               like      good    better  ...  certainly       fun  interesting\n",
              "0                                        ...                                  \n",
              "honda      0.673209  0.612411  0.562985  ...   0.665485  1.055490     0.709371\n",
              "ford       0.763031  0.764584  0.791367  ...   1.092290  1.574555     0.876776\n",
              "toyota     0.553590  0.518472  0.544770  ...   0.698263  0.545219     0.665962\n",
              "hyundai    0.578035  0.638581  0.422164  ...   0.374269  0.657534     1.196850\n",
              "mazda      1.677973  1.374356  1.635448  ...   1.304915  3.339749     1.301490\n",
              "nissan     0.610095  0.578185  0.578815  ...   0.387282  0.963894     0.977734\n",
              "saturn     0.574114  0.666048  0.639177  ...   0.793327  0.796432     1.068180\n",
              "chevrolet  0.115146  0.022085  0.000000  ...   0.000000  0.000000     0.000000\n",
              "chrysler   0.697735  0.666140  0.651138  ...   0.250985  0.881886     0.844851\n",
              "subaru     1.038386  0.995791  0.789977  ...   0.175088  2.255762     0.707247\n",
              "\n",
              "[10 rows x 10 columns]"
            ]
          },
          "metadata": {
            "tags": []
          },
          "execution_count": 110
        }
      ]
    },
    {
      "cell_type": "code",
      "metadata": {
        "id": "pbUyPM2dzxnv",
        "colab_type": "code",
        "colab": {
          "base_uri": "https://localhost:8080/",
          "height": 230
        },
        "outputId": "2ae27784-68be-4ae1-80b0-0eb728587aef"
      },
      "source": [
        "#calculate the average lift for each brand for \"Want Score\" (Ranked):\n",
        "df_lift.mean(axis=1).sort_values(ascending = False)"
      ],
      "execution_count": null,
      "outputs": [
        {
          "output_type": "execute_result",
          "data": {
            "text/plain": [
              "0\n",
              "mazda        1.933234\n",
              "subaru       1.009975\n",
              "ford         0.993052\n",
              "honda        0.756646\n",
              "nissan       0.743041\n",
              "chrysler     0.718870\n",
              "saturn       0.691040\n",
              "hyundai      0.631537\n",
              "toyota       0.627736\n",
              "chevrolet    0.133908\n",
              "dtype: float64"
            ]
          },
          "metadata": {
            "tags": []
          },
          "execution_count": 116
        }
      ]
    },
    {
      "cell_type": "markdown",
      "metadata": {
        "id": "-t7FlWm8z7ob",
        "colab_type": "text"
      },
      "source": [
        "The team used the following ten aspirational terms which are “like”, “good”, “better”,  “best”, “great”, “nice”, “top”, “certainly”, “fun”, and “interesting”. The reason behind choosing these terms was that they inherently have more positive sentiments. Therefore, when people mention these terms, the team assumed that the customers would want to purchase cars from the brand. As a result, Mazda turned out to be the most aspirational brand based on our analysis because it had the highest average lift value of 1.933234. Additionally, the team was able to observe that Mazda outnumbered all the attributes which may indicate that our data could be biased. However, it is not since while Mazda appeared 605 times in the data, Hyundai appeared 625 times. This means that the word frequency for the brand is not a bias factor for calculating the lift values. \n",
        "\n",
        "Therefore, the team was able to extract that Mazda seems to have the most positive impression on “Midsized Sedans 2.0” based on our analysis. This implies that the team is able to suggest this analysis to Mazda’s marketing team to focus more on advertising or manufacturing sedans than other types of models.\n"
      ]
    }
  ]
}